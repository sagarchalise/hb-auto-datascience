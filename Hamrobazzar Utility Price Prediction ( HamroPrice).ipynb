{
 "cells": [
  {
   "cell_type": "markdown",
   "metadata": {},
   "source": [
    "## Hamrobazzar Utility Price Prediction ( HamroPrice)"
   ]
  },
  {
   "cell_type": "markdown",
   "metadata": {},
   "source": [
    "\n",
    "### Problem Statement\n",
    "\n",
    "In the project, we are exploring different attributes of Auto (Bike) in hamrobazzar; their relations to price value and finally derive a price-prediction model. \n",
    "\n",
    "Since we will know the price values for our training process, it is a problem of supervised learning.\n",
    "\n",
    "\n",
    "#### Target variable: Cost \n",
    "\n",
    "#### Features :\n",
    "      1. Condition : Current bike condition (excellent, good, Like New)\n",
    "      2. Anchal : \n",
    "      2. Lot No : Bike lot no. \n",
    "      3. Make Year : Bike purchased year\n",
    "      4. Kilometers : Total kilometers covered by the bike"
   ]
  },
  {
   "cell_type": "code",
   "execution_count": 1,
   "metadata": {},
   "outputs": [
    {
     "name": "stderr",
     "output_type": "stream",
     "text": [
      "/home/leapfrong/workspace/envs/envpractice/lib/python3.5/importlib/_bootstrap.py:222: RuntimeWarning: numpy.dtype size changed, may indicate binary incompatibility. Expected 96, got 88\n",
      "  return f(*args, **kwds)\n",
      "/home/leapfrong/workspace/envs/envpractice/lib/python3.5/importlib/_bootstrap.py:222: RuntimeWarning: numpy.dtype size changed, may indicate binary incompatibility. Expected 96, got 88\n",
      "  return f(*args, **kwds)\n",
      "/home/leapfrong/workspace/envs/envpractice/lib/python3.5/importlib/_bootstrap.py:222: RuntimeWarning: numpy.dtype size changed, may indicate binary incompatibility. Expected 96, got 88\n",
      "  return f(*args, **kwds)\n"
     ]
    }
   ],
   "source": [
    "import numpy as np\n",
    "import pandas as pd\n",
    "import matplotlib.pyplot as plt\n",
    "\n",
    "import seaborn as sns\n",
    "from scipy.stats import norm\n",
    "\n",
    "%matplotlib inline\n",
    "plt.rcParams['figure.figsize'] = [8, 8]"
   ]
  },
  {
   "cell_type": "code",
   "execution_count": 2,
   "metadata": {
    "collapsed": true
   },
   "outputs": [],
   "source": [
    "df = pd.read_csv('hbcsv.csv')"
   ]
  },
  {
   "cell_type": "code",
   "execution_count": 3,
   "metadata": {},
   "outputs": [
    {
     "data": {
      "text/html": [
       "<div>\n",
       "<style scoped>\n",
       "    .dataframe tbody tr th:only-of-type {\n",
       "        vertical-align: middle;\n",
       "    }\n",
       "\n",
       "    .dataframe tbody tr th {\n",
       "        vertical-align: top;\n",
       "    }\n",
       "\n",
       "    .dataframe thead th {\n",
       "        text-align: right;\n",
       "    }\n",
       "</style>\n",
       "<table border=\"1\" class=\"dataframe\">\n",
       "  <thead>\n",
       "    <tr style=\"text-align: right;\">\n",
       "      <th></th>\n",
       "      <th>Brand</th>\n",
       "      <th>Name</th>\n",
       "      <th>Anchal</th>\n",
       "      <th>Type</th>\n",
       "      <th>Condition</th>\n",
       "      <th>Used For (year or month)</th>\n",
       "      <th>Lot No</th>\n",
       "      <th>Price</th>\n",
       "      <th>Mileage  (km / l)</th>\n",
       "      <th>Engine (CC)</th>\n",
       "      <th>Make Year</th>\n",
       "      <th>Kilometers</th>\n",
       "    </tr>\n",
       "  </thead>\n",
       "  <tbody>\n",
       "    <tr>\n",
       "      <th>0</th>\n",
       "      <td>UnKnown</td>\n",
       "      <td>UnKnown</td>\n",
       "      <td>Bagmati</td>\n",
       "      <td>Standard</td>\n",
       "      <td>Excellent</td>\n",
       "      <td>3 years</td>\n",
       "      <td>65</td>\n",
       "      <td>135</td>\n",
       "      <td>NaN</td>\n",
       "      <td>150</td>\n",
       "      <td>2015</td>\n",
       "      <td>NaN</td>\n",
       "    </tr>\n",
       "    <tr>\n",
       "      <th>1</th>\n",
       "      <td>yamaha</td>\n",
       "      <td>UnKnown</td>\n",
       "      <td>Bagmati</td>\n",
       "      <td>Sports</td>\n",
       "      <td>Good/Fair</td>\n",
       "      <td>5 months</td>\n",
       "      <td>32</td>\n",
       "      <td>85000</td>\n",
       "      <td>NaN</td>\n",
       "      <td>153</td>\n",
       "      <td>2010</td>\n",
       "      <td>27000</td>\n",
       "    </tr>\n",
       "    <tr>\n",
       "      <th>2</th>\n",
       "      <td>UnKnown</td>\n",
       "      <td>UnKnown</td>\n",
       "      <td>Bagmati</td>\n",
       "      <td>Sports</td>\n",
       "      <td>Excellent</td>\n",
       "      <td>3 years</td>\n",
       "      <td>67</td>\n",
       "      <td>155</td>\n",
       "      <td>NaN</td>\n",
       "      <td>153</td>\n",
       "      <td>2015</td>\n",
       "      <td>23000</td>\n",
       "    </tr>\n",
       "    <tr>\n",
       "      <th>3</th>\n",
       "      <td>UnKnown</td>\n",
       "      <td>UnKnown</td>\n",
       "      <td>Bagmati</td>\n",
       "      <td>Sports</td>\n",
       "      <td>Excellent</td>\n",
       "      <td>NaN</td>\n",
       "      <td>67</td>\n",
       "      <td>115000</td>\n",
       "      <td>NaN</td>\n",
       "      <td>125</td>\n",
       "      <td>2015</td>\n",
       "      <td>NaN</td>\n",
       "    </tr>\n",
       "    <tr>\n",
       "      <th>4</th>\n",
       "      <td>yamaha</td>\n",
       "      <td>UnKnown</td>\n",
       "      <td>Bagmati</td>\n",
       "      <td>Standard</td>\n",
       "      <td>Excellent</td>\n",
       "      <td>NaN</td>\n",
       "      <td>32</td>\n",
       "      <td>68000</td>\n",
       "      <td>NaN</td>\n",
       "      <td>150</td>\n",
       "      <td>2009</td>\n",
       "      <td>NaN</td>\n",
       "    </tr>\n",
       "  </tbody>\n",
       "</table>\n",
       "</div>"
      ],
      "text/plain": [
       "     Brand     Name   Anchal      Type  Condition Used For (year or month)  \\\n",
       "0  UnKnown  UnKnown  Bagmati  Standard  Excellent                  3 years   \n",
       "1   yamaha  UnKnown  Bagmati    Sports  Good/Fair                 5 months   \n",
       "2  UnKnown  UnKnown  Bagmati    Sports  Excellent                  3 years   \n",
       "3  UnKnown  UnKnown  Bagmati    Sports  Excellent                      NaN   \n",
       "4   yamaha  UnKnown  Bagmati  Standard  Excellent                      NaN   \n",
       "\n",
       "  Lot No   Price  Mileage  (km / l) Engine (CC) Make Year Kilometers  \n",
       "0     65     135                NaN         150      2015        NaN  \n",
       "1     32   85000                NaN         153      2010      27000  \n",
       "2     67     155                NaN         153      2015      23000  \n",
       "3     67  115000                NaN         125      2015        NaN  \n",
       "4     32   68000                NaN         150      2009        NaN  "
      ]
     },
     "execution_count": 3,
     "metadata": {},
     "output_type": "execute_result"
    }
   ],
   "source": [
    "df.head()"
   ]
  },
  {
   "cell_type": "code",
   "execution_count": 4,
   "metadata": {},
   "outputs": [
    {
     "data": {
      "text/plain": [
       "(3471, 12)"
      ]
     },
     "execution_count": 4,
     "metadata": {},
     "output_type": "execute_result"
    }
   ],
   "source": [
    "df.shape"
   ]
  },
  {
   "cell_type": "code",
   "execution_count": 5,
   "metadata": {},
   "outputs": [
    {
     "name": "stdout",
     "output_type": "stream",
     "text": [
      "<class 'pandas.core.frame.DataFrame'>\n",
      "RangeIndex: 3471 entries, 0 to 3470\n",
      "Data columns (total 12 columns):\n",
      "Brand                       3471 non-null object\n",
      "Name                        3471 non-null object\n",
      "Anchal                      3471 non-null object\n",
      "Type                        3471 non-null object\n",
      "Condition                   3281 non-null object\n",
      "Used For (year or month)    2139 non-null object\n",
      "Lot No                      3470 non-null object\n",
      "Price                       3471 non-null int64\n",
      "Mileage  (km / l)           0 non-null float64\n",
      "Engine (CC)                 3086 non-null object\n",
      "Make Year                   2502 non-null object\n",
      "Kilometers                  2669 non-null object\n",
      "dtypes: float64(1), int64(1), object(10)\n",
      "memory usage: 325.5+ KB\n"
     ]
    }
   ],
   "source": [
    "df.info()"
   ]
  },
  {
   "cell_type": "code",
   "execution_count": 6,
   "metadata": {},
   "outputs": [
    {
     "data": {
      "text/plain": [
       "RangeIndex(start=0, stop=3471, step=1)"
      ]
     },
     "execution_count": 6,
     "metadata": {},
     "output_type": "execute_result"
    }
   ],
   "source": [
    "df.index"
   ]
  },
  {
   "cell_type": "code",
   "execution_count": 7,
   "metadata": {
    "collapsed": true
   },
   "outputs": [],
   "source": [
    "# rename cols\n",
    "columns = ['brand', 'bike_name', 'area', 'type', 'condition', 'months_used', 'lot_number',\n",
    " 'cost', 'mileage', 'engine_cc', 'make_year', 'kilometers']\n",
    "df.columns = columns\n",
    "\n"
   ]
  },
  {
   "cell_type": "code",
   "execution_count": 8,
   "metadata": {},
   "outputs": [
    {
     "data": {
      "text/html": [
       "<div>\n",
       "<style scoped>\n",
       "    .dataframe tbody tr th:only-of-type {\n",
       "        vertical-align: middle;\n",
       "    }\n",
       "\n",
       "    .dataframe tbody tr th {\n",
       "        vertical-align: top;\n",
       "    }\n",
       "\n",
       "    .dataframe thead th {\n",
       "        text-align: right;\n",
       "    }\n",
       "</style>\n",
       "<table border=\"1\" class=\"dataframe\">\n",
       "  <thead>\n",
       "    <tr style=\"text-align: right;\">\n",
       "      <th></th>\n",
       "      <th>brand</th>\n",
       "      <th>bike_name</th>\n",
       "      <th>area</th>\n",
       "      <th>type</th>\n",
       "      <th>condition</th>\n",
       "      <th>months_used</th>\n",
       "      <th>lot_number</th>\n",
       "      <th>cost</th>\n",
       "      <th>mileage</th>\n",
       "      <th>engine_cc</th>\n",
       "      <th>make_year</th>\n",
       "      <th>kilometers</th>\n",
       "    </tr>\n",
       "  </thead>\n",
       "  <tbody>\n",
       "    <tr>\n",
       "      <th>0</th>\n",
       "      <td>UnKnown</td>\n",
       "      <td>UnKnown</td>\n",
       "      <td>Bagmati</td>\n",
       "      <td>Standard</td>\n",
       "      <td>Excellent</td>\n",
       "      <td>3 years</td>\n",
       "      <td>65</td>\n",
       "      <td>135</td>\n",
       "      <td>NaN</td>\n",
       "      <td>150</td>\n",
       "      <td>2015</td>\n",
       "      <td>NaN</td>\n",
       "    </tr>\n",
       "    <tr>\n",
       "      <th>1</th>\n",
       "      <td>yamaha</td>\n",
       "      <td>UnKnown</td>\n",
       "      <td>Bagmati</td>\n",
       "      <td>Sports</td>\n",
       "      <td>Good/Fair</td>\n",
       "      <td>5 months</td>\n",
       "      <td>32</td>\n",
       "      <td>85000</td>\n",
       "      <td>NaN</td>\n",
       "      <td>153</td>\n",
       "      <td>2010</td>\n",
       "      <td>27000</td>\n",
       "    </tr>\n",
       "    <tr>\n",
       "      <th>2</th>\n",
       "      <td>UnKnown</td>\n",
       "      <td>UnKnown</td>\n",
       "      <td>Bagmati</td>\n",
       "      <td>Sports</td>\n",
       "      <td>Excellent</td>\n",
       "      <td>3 years</td>\n",
       "      <td>67</td>\n",
       "      <td>155</td>\n",
       "      <td>NaN</td>\n",
       "      <td>153</td>\n",
       "      <td>2015</td>\n",
       "      <td>23000</td>\n",
       "    </tr>\n",
       "    <tr>\n",
       "      <th>3</th>\n",
       "      <td>UnKnown</td>\n",
       "      <td>UnKnown</td>\n",
       "      <td>Bagmati</td>\n",
       "      <td>Sports</td>\n",
       "      <td>Excellent</td>\n",
       "      <td>NaN</td>\n",
       "      <td>67</td>\n",
       "      <td>115000</td>\n",
       "      <td>NaN</td>\n",
       "      <td>125</td>\n",
       "      <td>2015</td>\n",
       "      <td>NaN</td>\n",
       "    </tr>\n",
       "    <tr>\n",
       "      <th>4</th>\n",
       "      <td>yamaha</td>\n",
       "      <td>UnKnown</td>\n",
       "      <td>Bagmati</td>\n",
       "      <td>Standard</td>\n",
       "      <td>Excellent</td>\n",
       "      <td>NaN</td>\n",
       "      <td>32</td>\n",
       "      <td>68000</td>\n",
       "      <td>NaN</td>\n",
       "      <td>150</td>\n",
       "      <td>2009</td>\n",
       "      <td>NaN</td>\n",
       "    </tr>\n",
       "  </tbody>\n",
       "</table>\n",
       "</div>"
      ],
      "text/plain": [
       "     brand bike_name     area      type  condition months_used lot_number  \\\n",
       "0  UnKnown   UnKnown  Bagmati  Standard  Excellent     3 years         65   \n",
       "1   yamaha   UnKnown  Bagmati    Sports  Good/Fair    5 months         32   \n",
       "2  UnKnown   UnKnown  Bagmati    Sports  Excellent     3 years         67   \n",
       "3  UnKnown   UnKnown  Bagmati    Sports  Excellent         NaN         67   \n",
       "4   yamaha   UnKnown  Bagmati  Standard  Excellent         NaN         32   \n",
       "\n",
       "     cost  mileage engine_cc make_year kilometers  \n",
       "0     135      NaN       150      2015        NaN  \n",
       "1   85000      NaN       153      2010      27000  \n",
       "2     155      NaN       153      2015      23000  \n",
       "3  115000      NaN       125      2015        NaN  \n",
       "4   68000      NaN       150      2009        NaN  "
      ]
     },
     "execution_count": 8,
     "metadata": {},
     "output_type": "execute_result"
    }
   ],
   "source": [
    "df.head()"
   ]
  },
  {
   "cell_type": "code",
   "execution_count": 9,
   "metadata": {},
   "outputs": [
    {
     "data": {
      "text/html": [
       "<div>\n",
       "<style scoped>\n",
       "    .dataframe tbody tr th:only-of-type {\n",
       "        vertical-align: middle;\n",
       "    }\n",
       "\n",
       "    .dataframe tbody tr th {\n",
       "        vertical-align: top;\n",
       "    }\n",
       "\n",
       "    .dataframe thead th {\n",
       "        text-align: right;\n",
       "    }\n",
       "</style>\n",
       "<table border=\"1\" class=\"dataframe\">\n",
       "  <thead>\n",
       "    <tr style=\"text-align: right;\">\n",
       "      <th></th>\n",
       "      <th>brand</th>\n",
       "      <th>condition</th>\n",
       "      <th>months_used</th>\n",
       "      <th>lot_number</th>\n",
       "      <th>engine_cc</th>\n",
       "      <th>make_year</th>\n",
       "      <th>kilometers</th>\n",
       "      <th>cost</th>\n",
       "    </tr>\n",
       "  </thead>\n",
       "  <tbody>\n",
       "    <tr>\n",
       "      <th>0</th>\n",
       "      <td>UnKnown</td>\n",
       "      <td>Excellent</td>\n",
       "      <td>3 years</td>\n",
       "      <td>65</td>\n",
       "      <td>150</td>\n",
       "      <td>2015</td>\n",
       "      <td>NaN</td>\n",
       "      <td>135</td>\n",
       "    </tr>\n",
       "    <tr>\n",
       "      <th>1</th>\n",
       "      <td>yamaha</td>\n",
       "      <td>Good/Fair</td>\n",
       "      <td>5 months</td>\n",
       "      <td>32</td>\n",
       "      <td>153</td>\n",
       "      <td>2010</td>\n",
       "      <td>27000</td>\n",
       "      <td>85000</td>\n",
       "    </tr>\n",
       "    <tr>\n",
       "      <th>2</th>\n",
       "      <td>UnKnown</td>\n",
       "      <td>Excellent</td>\n",
       "      <td>3 years</td>\n",
       "      <td>67</td>\n",
       "      <td>153</td>\n",
       "      <td>2015</td>\n",
       "      <td>23000</td>\n",
       "      <td>155</td>\n",
       "    </tr>\n",
       "    <tr>\n",
       "      <th>3</th>\n",
       "      <td>UnKnown</td>\n",
       "      <td>Excellent</td>\n",
       "      <td>NaN</td>\n",
       "      <td>67</td>\n",
       "      <td>125</td>\n",
       "      <td>2015</td>\n",
       "      <td>NaN</td>\n",
       "      <td>115000</td>\n",
       "    </tr>\n",
       "    <tr>\n",
       "      <th>4</th>\n",
       "      <td>yamaha</td>\n",
       "      <td>Excellent</td>\n",
       "      <td>NaN</td>\n",
       "      <td>32</td>\n",
       "      <td>150</td>\n",
       "      <td>2009</td>\n",
       "      <td>NaN</td>\n",
       "      <td>68000</td>\n",
       "    </tr>\n",
       "  </tbody>\n",
       "</table>\n",
       "</div>"
      ],
      "text/plain": [
       "     brand  condition months_used lot_number engine_cc make_year kilometers  \\\n",
       "0  UnKnown  Excellent     3 years         65       150      2015        NaN   \n",
       "1   yamaha  Good/Fair    5 months         32       153      2010      27000   \n",
       "2  UnKnown  Excellent     3 years         67       153      2015      23000   \n",
       "3  UnKnown  Excellent         NaN         67       125      2015        NaN   \n",
       "4   yamaha  Excellent         NaN         32       150      2009        NaN   \n",
       "\n",
       "     cost  \n",
       "0     135  \n",
       "1   85000  \n",
       "2     155  \n",
       "3  115000  \n",
       "4   68000  "
      ]
     },
     "execution_count": 9,
     "metadata": {},
     "output_type": "execute_result"
    }
   ],
   "source": [
    "selected_columns = ['brand', 'condition', 'months_used','lot_number',\n",
    "                   'engine_cc', 'make_year', 'kilometers', 'cost']\n",
    "\n",
    "df = df[selected_columns]\n",
    "df.head()"
   ]
  },
  {
   "cell_type": "code",
   "execution_count": null,
   "metadata": {
    "collapsed": true
   },
   "outputs": [],
   "source": []
  },
  {
   "cell_type": "code",
   "execution_count": 10,
   "metadata": {
    "collapsed": true
   },
   "outputs": [],
   "source": [
    "# convert months used from years to total months (default value to 12 months)\n",
    "import math\n",
    "import re\n",
    "\n",
    "word_to_num = {'one':1,\n",
    "          'two':2,\n",
    "          'three':3,\n",
    "          'four': 4,\n",
    "          'five': 5}\n",
    "\n",
    "def get_int_value_from_string(x):\n",
    "    \"\"\"\n",
    "    for ex: 1year..\n",
    "    \"\"\"\n",
    "    try:\n",
    "        int_val = int(re.search(r'\\d+', x).group())\n",
    "        str_val = x[1:]\n",
    "        if str_val.lower().startswith('y'):\n",
    "            return int_val * 12\n",
    "        else:\n",
    "            return int_val\n",
    "    except:\n",
    "        return 12\n",
    "    \n",
    "def get_total_months(x):\n",
    "    if x:\n",
    "        try:\n",
    "            math.isnan(x)\n",
    "            return 12\n",
    "        except:\n",
    "            pass\n",
    "            \n",
    "        x = str(x.strip().lower())\n",
    "        \n",
    "        if x.startswith('few') or x.startswith('some'):\n",
    "            return 36\n",
    "        if x.startswith('a year') and x.endswith('more'):\n",
    "            return 24\n",
    "        \n",
    "        if '+' in x:\n",
    "            int_val = int(re.search(r'\\d+', x).group())\n",
    "            return (int_val + 1) * 12\n",
    "        check_list = x.split(' ')\n",
    "        \n",
    "        if '/' in check_list[0] or '-' in check_list[0]:\n",
    "            sep = '/' if '/' in check_list[0] else '-'\n",
    "            if len(check_list) == 1:\n",
    "                slash_values = list(map(int, re.findall(r'\\d+', check_list[0])))\n",
    "                print('slahs valeus', slash_values)\n",
    "                try:\n",
    "                    return int(slash_values[1]) * 12\n",
    "                except:\n",
    "                    return int(slash_values[0]) * 12\n",
    "                    \n",
    "            slash_values = check_list[0].split(sep)\n",
    "            if check_list[1].lower().startswith('y'):\n",
    "                if slash_values[1].isdigit():\n",
    "                    return int(slash_values[1])* 12\n",
    "                else:\n",
    "                    return slash_values[0]* 12\n",
    "            else:\n",
    "                if slash_values[1].isdigit():\n",
    "                    return int(slash_values[1])\n",
    "                else:\n",
    "                    return slash_values[0]\n",
    "                \n",
    "            \n",
    "        if check_list[0].lower() in word_to_num:\n",
    "            return word_to_num[check_list[0].lower()]\n",
    "        \n",
    "        if len(check_list) == 1:\n",
    "            return get_int_value_from_string(x)\n",
    "        \n",
    "        elif check_list[1].lower() == 'above':\n",
    "            return get_int_value_from_string(check_list[0].lower())\n",
    "            \n",
    "        else:    \n",
    "            if check_list[1].lower().startswith('y'):\n",
    "                no_of_years = check_list[0]\n",
    "                if no_of_years.isdigit():\n",
    "                    no_of_years = int(no_of_years)\n",
    "                    return no_of_years * 12\n",
    "                else:\n",
    "                    orig = float(no_of_years)\n",
    "                    whole = math.floor(orig)    # whole = 5.0\n",
    "                    frac = orig - whole  \n",
    "                    frac_months = int(frac * 12)\n",
    "                    return int(whole) * 12 + frac_months\n",
    "\n",
    "            else:\n",
    "                if check_list[1].lower().startswith('m'):\n",
    "                    if check_list[0].isdigit():\n",
    "                        return int(check_list[0])\n",
    "                    else:\n",
    "                        int_vals = list(map(int, re.findall(r'\\d+', check_list[0])))\n",
    "                        if len(int_vals) > 1:\n",
    "                            total_months = int_vals[0] * 12 + int_vals[1]\n",
    "                            return total_months\n",
    "                else:\n",
    "                    return 12\n",
    "#                 else:\n",
    "#                     return int(check_list[0])\n",
    "    else:\n",
    "        return 12\n",
    "            \n",
    "    "
   ]
  },
  {
   "cell_type": "code",
   "execution_count": 11,
   "metadata": {},
   "outputs": [
    {
     "name": "stdout",
     "output_type": "stream",
     "text": [
      "slahs valeus [3, 4]\n",
      "slahs valeus [3, 4]\n",
      "slahs valeus [2074, 10, 1, 2075]\n",
      "slahs valeus [2069, 5, 3]\n",
      "slahs valeus [2]\n",
      "slahs valeus [4, 5]\n",
      "slahs valeus [4, 5]\n"
     ]
    }
   ],
   "source": [
    "df['months_used'] = df['months_used'].apply(lambda x: get_total_months(x))"
   ]
  },
  {
   "cell_type": "code",
   "execution_count": 12,
   "metadata": {},
   "outputs": [
    {
     "data": {
      "text/html": [
       "<div>\n",
       "<style scoped>\n",
       "    .dataframe tbody tr th:only-of-type {\n",
       "        vertical-align: middle;\n",
       "    }\n",
       "\n",
       "    .dataframe tbody tr th {\n",
       "        vertical-align: top;\n",
       "    }\n",
       "\n",
       "    .dataframe thead th {\n",
       "        text-align: right;\n",
       "    }\n",
       "</style>\n",
       "<table border=\"1\" class=\"dataframe\">\n",
       "  <thead>\n",
       "    <tr style=\"text-align: right;\">\n",
       "      <th></th>\n",
       "      <th>brand</th>\n",
       "      <th>condition</th>\n",
       "      <th>months_used</th>\n",
       "      <th>lot_number</th>\n",
       "      <th>engine_cc</th>\n",
       "      <th>make_year</th>\n",
       "      <th>kilometers</th>\n",
       "      <th>cost</th>\n",
       "    </tr>\n",
       "  </thead>\n",
       "  <tbody>\n",
       "    <tr>\n",
       "      <th>3466</th>\n",
       "      <td>vespa</td>\n",
       "      <td>Like New (used few times)</td>\n",
       "      <td>12</td>\n",
       "      <td>11</td>\n",
       "      <td>150</td>\n",
       "      <td>NaN</td>\n",
       "      <td>NaN</td>\n",
       "      <td>110000</td>\n",
       "    </tr>\n",
       "    <tr>\n",
       "      <th>3467</th>\n",
       "      <td>UnKnown</td>\n",
       "      <td>Excellent</td>\n",
       "      <td>36</td>\n",
       "      <td>62</td>\n",
       "      <td>230</td>\n",
       "      <td>2014</td>\n",
       "      <td>36000</td>\n",
       "      <td>130000</td>\n",
       "    </tr>\n",
       "    <tr>\n",
       "      <th>3468</th>\n",
       "      <td>UnKnown</td>\n",
       "      <td>Excellent</td>\n",
       "      <td>12</td>\n",
       "      <td>55</td>\n",
       "      <td>1200</td>\n",
       "      <td>2012</td>\n",
       "      <td>6000</td>\n",
       "      <td>2800000</td>\n",
       "    </tr>\n",
       "    <tr>\n",
       "      <th>3469</th>\n",
       "      <td>honda</td>\n",
       "      <td>Good/Fair</td>\n",
       "      <td>12</td>\n",
       "      <td>7</td>\n",
       "      <td>100</td>\n",
       "      <td>NaN</td>\n",
       "      <td>NaN</td>\n",
       "      <td>50000</td>\n",
       "    </tr>\n",
       "    <tr>\n",
       "      <th>3470</th>\n",
       "      <td>mahindra</td>\n",
       "      <td>Good/Fair</td>\n",
       "      <td>36</td>\n",
       "      <td>49</td>\n",
       "      <td>125</td>\n",
       "      <td>2012</td>\n",
       "      <td>7000</td>\n",
       "      <td>65000</td>\n",
       "    </tr>\n",
       "  </tbody>\n",
       "</table>\n",
       "</div>"
      ],
      "text/plain": [
       "         brand                  condition months_used lot_number engine_cc  \\\n",
       "3466     vespa  Like New (used few times)          12         11       150   \n",
       "3467   UnKnown                  Excellent          36         62       230   \n",
       "3468   UnKnown                  Excellent          12         55      1200   \n",
       "3469     honda                  Good/Fair          12          7       100   \n",
       "3470  mahindra                  Good/Fair          36         49       125   \n",
       "\n",
       "     make_year kilometers     cost  \n",
       "3466       NaN        NaN   110000  \n",
       "3467      2014      36000   130000  \n",
       "3468      2012       6000  2800000  \n",
       "3469       NaN        NaN    50000  \n",
       "3470      2012       7000    65000  "
      ]
     },
     "execution_count": 12,
     "metadata": {},
     "output_type": "execute_result"
    }
   ],
   "source": [
    "df.tail()"
   ]
  },
  {
   "cell_type": "code",
   "execution_count": 13,
   "metadata": {},
   "outputs": [
    {
     "data": {
      "text/plain": [
       "5"
      ]
     },
     "execution_count": 13,
     "metadata": {},
     "output_type": "execute_result"
    }
   ],
   "source": [
    "df.months_used.isnull().sum()"
   ]
  },
  {
   "cell_type": "code",
   "execution_count": 14,
   "metadata": {
    "collapsed": true
   },
   "outputs": [],
   "source": [
    "df.dropna(\n",
    "    subset=['months_used'],\n",
    "    how='any', inplace = True)"
   ]
  },
  {
   "cell_type": "markdown",
   "metadata": {},
   "source": [
    "### Handling Missing Values"
   ]
  },
  {
   "cell_type": "code",
   "execution_count": null,
   "metadata": {
    "collapsed": true
   },
   "outputs": [],
   "source": []
  },
  {
   "cell_type": "code",
   "execution_count": 15,
   "metadata": {},
   "outputs": [
    {
     "data": {
      "text/plain": [
       "(3466, 8)"
      ]
     },
     "execution_count": 15,
     "metadata": {},
     "output_type": "execute_result"
    }
   ],
   "source": [
    "# drop rows if all the column values are null\n",
    "df.dropna(how='all').shape"
   ]
  },
  {
   "cell_type": "markdown",
   "metadata": {},
   "source": [
    "### Fill Missing Values for brand"
   ]
  },
  {
   "cell_type": "code",
   "execution_count": 16,
   "metadata": {},
   "outputs": [
    {
     "data": {
      "text/plain": [
       "UnKnown          1727\n",
       "bajaj             569\n",
       "honda             423\n",
       "yamaha            207\n",
       "suzuki            102\n",
       "tvs               100\n",
       "royal enfield      89\n",
       "hero               73\n",
       "crossfire          51\n",
       "benelli            39\n",
       "mahindra           37\n",
       "vespa              19\n",
       "um                 18\n",
       "hartford            8\n",
       "reiju               2\n",
       "apollo              1\n",
       "aprilla             1\n",
       "Name: brand, dtype: int64"
      ]
     },
     "execution_count": 16,
     "metadata": {},
     "output_type": "execute_result"
    }
   ],
   "source": [
    "# let us see which of the brand is occurring frequently\n",
    "df['brand'].value_counts()"
   ]
  },
  {
   "cell_type": "code",
   "execution_count": 17,
   "metadata": {},
   "outputs": [
    {
     "data": {
      "text/plain": [
       "0"
      ]
     },
     "execution_count": 17,
     "metadata": {},
     "output_type": "execute_result"
    }
   ],
   "source": [
    "df.brand.isnull().sum()"
   ]
  },
  {
   "cell_type": "code",
   "execution_count": 18,
   "metadata": {
    "collapsed": true
   },
   "outputs": [],
   "source": [
    "# first fill 'UnKnown' brand with nan\n",
    "df['brand'] = df['brand'].replace('UnKnown', np.nan)\n",
    "# df['brand'] = df['brand'].replace('NaN', np.nan)"
   ]
  },
  {
   "cell_type": "code",
   "execution_count": 19,
   "metadata": {},
   "outputs": [
    {
     "data": {
      "text/plain": [
       "bajaj            569\n",
       "honda            423\n",
       "yamaha           207\n",
       "suzuki           102\n",
       "tvs              100\n",
       "royal enfield     89\n",
       "hero              73\n",
       "crossfire         51\n",
       "benelli           39\n",
       "mahindra          37\n",
       "vespa             19\n",
       "um                18\n",
       "hartford           8\n",
       "reiju              2\n",
       "aprilla            1\n",
       "apollo             1\n",
       "Name: brand, dtype: int64"
      ]
     },
     "execution_count": 19,
     "metadata": {},
     "output_type": "execute_result"
    }
   ],
   "source": [
    "df['brand'].value_counts()"
   ]
  },
  {
   "cell_type": "code",
   "execution_count": 20,
   "metadata": {},
   "outputs": [
    {
     "data": {
      "text/plain": [
       "1727"
      ]
     },
     "execution_count": 20,
     "metadata": {},
     "output_type": "execute_result"
    }
   ],
   "source": [
    "df.brand.isnull().sum()"
   ]
  },
  {
   "cell_type": "code",
   "execution_count": null,
   "metadata": {
    "collapsed": true
   },
   "outputs": [],
   "source": []
  },
  {
   "cell_type": "code",
   "execution_count": 21,
   "metadata": {},
   "outputs": [
    {
     "data": {
      "text/plain": [
       "Int64Index([   0,    1,    2,    3,    4,    5,    6,    7,    8,    9,\n",
       "            ...\n",
       "            3461, 3462, 3463, 3464, 3465, 3466, 3467, 3468, 3469, 3470],\n",
       "           dtype='int64', length=3466)"
      ]
     },
     "execution_count": 21,
     "metadata": {},
     "output_type": "execute_result"
    }
   ],
   "source": [
    "df.index"
   ]
  },
  {
   "cell_type": "code",
   "execution_count": 22,
   "metadata": {
    "collapsed": true
   },
   "outputs": [],
   "source": [
    "# we can see bajaj is the most ocurring brand\n",
    "df['brand'].fillna(value='bajaj', inplace=True)"
   ]
  },
  {
   "cell_type": "code",
   "execution_count": 23,
   "metadata": {},
   "outputs": [
    {
     "data": {
      "text/plain": [
       "0"
      ]
     },
     "execution_count": 23,
     "metadata": {},
     "output_type": "execute_result"
    }
   ],
   "source": [
    "df.brand.isnull().sum()"
   ]
  },
  {
   "cell_type": "code",
   "execution_count": 24,
   "metadata": {},
   "outputs": [
    {
     "data": {
      "text/plain": [
       "bajaj            2296\n",
       "honda             423\n",
       "yamaha            207\n",
       "suzuki            102\n",
       "tvs               100\n",
       "royal enfield      89\n",
       "hero               73\n",
       "crossfire          51\n",
       "benelli            39\n",
       "mahindra           37\n",
       "vespa              19\n",
       "um                 18\n",
       "hartford            8\n",
       "reiju               2\n",
       "aprilla             1\n",
       "apollo              1\n",
       "Name: brand, dtype: int64"
      ]
     },
     "execution_count": 24,
     "metadata": {},
     "output_type": "execute_result"
    }
   ],
   "source": [
    "df['brand'].value_counts()"
   ]
  },
  {
   "cell_type": "markdown",
   "metadata": {},
   "source": [
    "### Fill Missing Values for condition"
   ]
  },
  {
   "cell_type": "code",
   "execution_count": 25,
   "metadata": {},
   "outputs": [
    {
     "data": {
      "text/plain": [
       "Excellent                    1955\n",
       "Like New (used few times)     955\n",
       "Good/Fair                     366\n",
       "Not Working                     1\n",
       "Name: condition, dtype: int64"
      ]
     },
     "execution_count": 25,
     "metadata": {},
     "output_type": "execute_result"
    }
   ],
   "source": [
    "# values count in condition\n",
    "df['condition'].value_counts()"
   ]
  },
  {
   "cell_type": "code",
   "execution_count": 26,
   "metadata": {},
   "outputs": [
    {
     "data": {
      "text/html": [
       "<div>\n",
       "<style scoped>\n",
       "    .dataframe tbody tr th:only-of-type {\n",
       "        vertical-align: middle;\n",
       "    }\n",
       "\n",
       "    .dataframe tbody tr th {\n",
       "        vertical-align: top;\n",
       "    }\n",
       "\n",
       "    .dataframe thead th {\n",
       "        text-align: right;\n",
       "    }\n",
       "</style>\n",
       "<table border=\"1\" class=\"dataframe\">\n",
       "  <thead>\n",
       "    <tr style=\"text-align: right;\">\n",
       "      <th></th>\n",
       "      <th>brand</th>\n",
       "      <th>condition</th>\n",
       "      <th>months_used</th>\n",
       "      <th>lot_number</th>\n",
       "      <th>engine_cc</th>\n",
       "      <th>make_year</th>\n",
       "      <th>kilometers</th>\n",
       "      <th>cost</th>\n",
       "    </tr>\n",
       "  </thead>\n",
       "  <tbody>\n",
       "    <tr>\n",
       "      <th>0</th>\n",
       "      <td>bajaj</td>\n",
       "      <td>Excellent</td>\n",
       "      <td>36</td>\n",
       "      <td>65</td>\n",
       "      <td>150</td>\n",
       "      <td>2015</td>\n",
       "      <td>NaN</td>\n",
       "      <td>135</td>\n",
       "    </tr>\n",
       "    <tr>\n",
       "      <th>1</th>\n",
       "      <td>yamaha</td>\n",
       "      <td>Good/Fair</td>\n",
       "      <td>5</td>\n",
       "      <td>32</td>\n",
       "      <td>153</td>\n",
       "      <td>2010</td>\n",
       "      <td>27000</td>\n",
       "      <td>85000</td>\n",
       "    </tr>\n",
       "    <tr>\n",
       "      <th>2</th>\n",
       "      <td>bajaj</td>\n",
       "      <td>Excellent</td>\n",
       "      <td>36</td>\n",
       "      <td>67</td>\n",
       "      <td>153</td>\n",
       "      <td>2015</td>\n",
       "      <td>23000</td>\n",
       "      <td>155</td>\n",
       "    </tr>\n",
       "    <tr>\n",
       "      <th>3</th>\n",
       "      <td>bajaj</td>\n",
       "      <td>Excellent</td>\n",
       "      <td>12</td>\n",
       "      <td>67</td>\n",
       "      <td>125</td>\n",
       "      <td>2015</td>\n",
       "      <td>NaN</td>\n",
       "      <td>115000</td>\n",
       "    </tr>\n",
       "    <tr>\n",
       "      <th>4</th>\n",
       "      <td>yamaha</td>\n",
       "      <td>Excellent</td>\n",
       "      <td>12</td>\n",
       "      <td>32</td>\n",
       "      <td>150</td>\n",
       "      <td>2009</td>\n",
       "      <td>NaN</td>\n",
       "      <td>68000</td>\n",
       "    </tr>\n",
       "  </tbody>\n",
       "</table>\n",
       "</div>"
      ],
      "text/plain": [
       "    brand  condition months_used lot_number engine_cc make_year kilometers  \\\n",
       "0   bajaj  Excellent          36         65       150      2015        NaN   \n",
       "1  yamaha  Good/Fair           5         32       153      2010      27000   \n",
       "2   bajaj  Excellent          36         67       153      2015      23000   \n",
       "3   bajaj  Excellent          12         67       125      2015        NaN   \n",
       "4  yamaha  Excellent          12         32       150      2009        NaN   \n",
       "\n",
       "     cost  \n",
       "0     135  \n",
       "1   85000  \n",
       "2     155  \n",
       "3  115000  \n",
       "4   68000  "
      ]
     },
     "execution_count": 26,
     "metadata": {},
     "output_type": "execute_result"
    }
   ],
   "source": [
    "df.head()"
   ]
  },
  {
   "cell_type": "code",
   "execution_count": 27,
   "metadata": {
    "collapsed": true
   },
   "outputs": [],
   "source": [
    "# df['condition'] = df['condition'].replace('NaN', np.nan)\n",
    "df['condition'].fillna(value=np.nan, inplace=True)"
   ]
  },
  {
   "cell_type": "code",
   "execution_count": 28,
   "metadata": {},
   "outputs": [
    {
     "data": {
      "text/plain": [
       "189"
      ]
     },
     "execution_count": 28,
     "metadata": {},
     "output_type": "execute_result"
    }
   ],
   "source": [
    "# total 190 null entries in condition column\n",
    "total_null_count_2 = df.condition.isnull().sum()\n",
    "total_null_count_2"
   ]
  },
  {
   "cell_type": "code",
   "execution_count": 29,
   "metadata": {
    "collapsed": true
   },
   "outputs": [],
   "source": [
    "condition_random_choices = ['Excellent','Like New (used few times)', 'Good/Fair']"
   ]
  },
  {
   "cell_type": "code",
   "execution_count": 30,
   "metadata": {
    "collapsed": true
   },
   "outputs": [],
   "source": [
    "df['condition'] = df['condition'].fillna(\n",
    "    pd.Series(np.random.choice(condition_random_choices, size=len(df.index))))"
   ]
  },
  {
   "cell_type": "markdown",
   "metadata": {},
   "source": [
    "### Fill Missing Values for engine/cc"
   ]
  },
  {
   "cell_type": "code",
   "execution_count": 31,
   "metadata": {},
   "outputs": [
    {
     "data": {
      "text/html": [
       "<div>\n",
       "<style scoped>\n",
       "    .dataframe tbody tr th:only-of-type {\n",
       "        vertical-align: middle;\n",
       "    }\n",
       "\n",
       "    .dataframe tbody tr th {\n",
       "        vertical-align: top;\n",
       "    }\n",
       "\n",
       "    .dataframe thead th {\n",
       "        text-align: right;\n",
       "    }\n",
       "</style>\n",
       "<table border=\"1\" class=\"dataframe\">\n",
       "  <thead>\n",
       "    <tr style=\"text-align: right;\">\n",
       "      <th></th>\n",
       "      <th>brand</th>\n",
       "      <th>condition</th>\n",
       "      <th>months_used</th>\n",
       "      <th>lot_number</th>\n",
       "      <th>engine_cc</th>\n",
       "      <th>make_year</th>\n",
       "      <th>kilometers</th>\n",
       "      <th>cost</th>\n",
       "    </tr>\n",
       "  </thead>\n",
       "  <tbody>\n",
       "  </tbody>\n",
       "</table>\n",
       "</div>"
      ],
      "text/plain": [
       "Empty DataFrame\n",
       "Columns: [brand, condition, months_used, lot_number, engine_cc, make_year, kilometers, cost]\n",
       "Index: []"
      ]
     },
     "execution_count": 31,
     "metadata": {},
     "output_type": "execute_result"
    }
   ],
   "source": [
    "# remove empty kilometers rows\n",
    "df[df.engine_cc == '']"
   ]
  },
  {
   "cell_type": "code",
   "execution_count": 32,
   "metadata": {
    "collapsed": true
   },
   "outputs": [],
   "source": [
    "df['engine_cc'] = df['engine_cc'].replace('', np.nan)"
   ]
  },
  {
   "cell_type": "code",
   "execution_count": 33,
   "metadata": {},
   "outputs": [
    {
     "data": {
      "text/plain": [
       "385"
      ]
     },
     "execution_count": 33,
     "metadata": {},
     "output_type": "execute_result"
    }
   ],
   "source": [
    "df.engine_cc.isnull().sum()"
   ]
  },
  {
   "cell_type": "code",
   "execution_count": 34,
   "metadata": {
    "collapsed": true
   },
   "outputs": [],
   "source": [
    "# we can use brand name to calculate the CC value.\n",
    "# we collect all possible engine_cc values for given brand and return mode\n",
    "import math\n",
    "def remove_non_numeric_char(cc):\n",
    "    if len(cc) == 0:\n",
    "        return np.nan\n",
    "    if not cc.isdigit():\n",
    "        try:\n",
    "            cc = float(cc)\n",
    "            cc = math.ceil(cc)\n",
    "        except ValueError:\n",
    "            print (\"Not a float\")\n",
    "    result = re.sub('[^0-9]','',str(cc))\n",
    "    return result\n",
    "\n",
    "def get_engine_cc_based_on_brand(brand):\n",
    "    engine_cc_series = df[df['brand']==brand]['engine_cc']\n",
    "    return engine_cc_series.mode()[0]\n",
    "    "
   ]
  },
  {
   "cell_type": "code",
   "execution_count": null,
   "metadata": {
    "collapsed": true
   },
   "outputs": [],
   "source": []
  },
  {
   "cell_type": "code",
   "execution_count": 35,
   "metadata": {},
   "outputs": [
    {
     "data": {
      "text/plain": [
       "'150'"
      ]
     },
     "execution_count": 35,
     "metadata": {},
     "output_type": "execute_result"
    }
   ],
   "source": [
    "get_engine_cc_based_on_brand('bajaj')"
   ]
  },
  {
   "cell_type": "code",
   "execution_count": 36,
   "metadata": {},
   "outputs": [
    {
     "data": {
      "text/html": [
       "<div>\n",
       "<style scoped>\n",
       "    .dataframe tbody tr th:only-of-type {\n",
       "        vertical-align: middle;\n",
       "    }\n",
       "\n",
       "    .dataframe tbody tr th {\n",
       "        vertical-align: top;\n",
       "    }\n",
       "\n",
       "    .dataframe thead th {\n",
       "        text-align: right;\n",
       "    }\n",
       "</style>\n",
       "<table border=\"1\" class=\"dataframe\">\n",
       "  <thead>\n",
       "    <tr style=\"text-align: right;\">\n",
       "      <th></th>\n",
       "      <th>brand</th>\n",
       "      <th>condition</th>\n",
       "      <th>months_used</th>\n",
       "      <th>lot_number</th>\n",
       "      <th>engine_cc</th>\n",
       "      <th>make_year</th>\n",
       "      <th>kilometers</th>\n",
       "      <th>cost</th>\n",
       "    </tr>\n",
       "  </thead>\n",
       "  <tbody>\n",
       "    <tr>\n",
       "      <th>0</th>\n",
       "      <td>bajaj</td>\n",
       "      <td>Excellent</td>\n",
       "      <td>36</td>\n",
       "      <td>65</td>\n",
       "      <td>150</td>\n",
       "      <td>2015</td>\n",
       "      <td>NaN</td>\n",
       "      <td>135</td>\n",
       "    </tr>\n",
       "    <tr>\n",
       "      <th>1</th>\n",
       "      <td>yamaha</td>\n",
       "      <td>Good/Fair</td>\n",
       "      <td>5</td>\n",
       "      <td>32</td>\n",
       "      <td>153</td>\n",
       "      <td>2010</td>\n",
       "      <td>27000</td>\n",
       "      <td>85000</td>\n",
       "    </tr>\n",
       "    <tr>\n",
       "      <th>2</th>\n",
       "      <td>bajaj</td>\n",
       "      <td>Excellent</td>\n",
       "      <td>36</td>\n",
       "      <td>67</td>\n",
       "      <td>153</td>\n",
       "      <td>2015</td>\n",
       "      <td>23000</td>\n",
       "      <td>155</td>\n",
       "    </tr>\n",
       "    <tr>\n",
       "      <th>3</th>\n",
       "      <td>bajaj</td>\n",
       "      <td>Excellent</td>\n",
       "      <td>12</td>\n",
       "      <td>67</td>\n",
       "      <td>125</td>\n",
       "      <td>2015</td>\n",
       "      <td>NaN</td>\n",
       "      <td>115000</td>\n",
       "    </tr>\n",
       "    <tr>\n",
       "      <th>4</th>\n",
       "      <td>yamaha</td>\n",
       "      <td>Excellent</td>\n",
       "      <td>12</td>\n",
       "      <td>32</td>\n",
       "      <td>150</td>\n",
       "      <td>2009</td>\n",
       "      <td>NaN</td>\n",
       "      <td>68000</td>\n",
       "    </tr>\n",
       "  </tbody>\n",
       "</table>\n",
       "</div>"
      ],
      "text/plain": [
       "    brand  condition months_used lot_number engine_cc make_year kilometers  \\\n",
       "0   bajaj  Excellent          36         65       150      2015        NaN   \n",
       "1  yamaha  Good/Fair           5         32       153      2010      27000   \n",
       "2   bajaj  Excellent          36         67       153      2015      23000   \n",
       "3   bajaj  Excellent          12         67       125      2015        NaN   \n",
       "4  yamaha  Excellent          12         32       150      2009        NaN   \n",
       "\n",
       "     cost  \n",
       "0     135  \n",
       "1   85000  \n",
       "2     155  \n",
       "3  115000  \n",
       "4   68000  "
      ]
     },
     "execution_count": 36,
     "metadata": {},
     "output_type": "execute_result"
    }
   ],
   "source": [
    "df.head()"
   ]
  },
  {
   "cell_type": "code",
   "execution_count": 37,
   "metadata": {
    "collapsed": true
   },
   "outputs": [],
   "source": [
    "df['engine_cc'] =  df.apply(\n",
    "    lambda x: get_engine_cc_based_on_brand(x['brand'])\n",
    "    if pd.isnull(x['engine_cc']) else x['engine_cc'], axis=1)"
   ]
  },
  {
   "cell_type": "code",
   "execution_count": 38,
   "metadata": {},
   "outputs": [
    {
     "data": {
      "text/plain": [
       "0"
      ]
     },
     "execution_count": 38,
     "metadata": {},
     "output_type": "execute_result"
    }
   ],
   "source": [
    "df.engine_cc.isnull().sum()"
   ]
  },
  {
   "cell_type": "code",
   "execution_count": 39,
   "metadata": {},
   "outputs": [
    {
     "name": "stdout",
     "output_type": "stream",
     "text": [
      "Not a float\n",
      "Not a float\n",
      "Not a float\n",
      "Not a float\n",
      "Not a float\n",
      "Not a float\n",
      "Not a float\n",
      "Not a float\n",
      "Not a float\n",
      "Not a float\n",
      "Not a float\n",
      "Not a float\n",
      "Not a float\n",
      "Not a float\n",
      "Not a float\n",
      "Not a float\n",
      "Not a float\n",
      "Not a float\n",
      "Not a float\n",
      "Not a float\n",
      "Not a float\n",
      "Not a float\n"
     ]
    }
   ],
   "source": [
    "df['engine_cc'] = df['engine_cc'].apply(lambda x : remove_non_numeric_char(x))"
   ]
  },
  {
   "cell_type": "markdown",
   "metadata": {},
   "source": [
    "### Fill Missing Values for make_year"
   ]
  },
  {
   "cell_type": "code",
   "execution_count": 40,
   "metadata": {},
   "outputs": [
    {
     "data": {
      "text/plain": [
       "(3466, 8)"
      ]
     },
     "execution_count": 40,
     "metadata": {},
     "output_type": "execute_result"
    }
   ],
   "source": [
    "df.shape"
   ]
  },
  {
   "cell_type": "code",
   "execution_count": 41,
   "metadata": {},
   "outputs": [
    {
     "data": {
      "text/plain": [
       "1"
      ]
     },
     "execution_count": 41,
     "metadata": {},
     "output_type": "execute_result"
    }
   ],
   "source": [
    "df.lot_number.isnull().sum()"
   ]
  },
  {
   "cell_type": "code",
   "execution_count": 42,
   "metadata": {
    "collapsed": true
   },
   "outputs": [],
   "source": [
    "df.dropna(\n",
    "    subset=['lot_number'],\n",
    "    how='any', inplace = True)"
   ]
  },
  {
   "cell_type": "code",
   "execution_count": 43,
   "metadata": {},
   "outputs": [
    {
     "data": {
      "text/plain": [
       "(3465, 8)"
      ]
     },
     "execution_count": 43,
     "metadata": {},
     "output_type": "execute_result"
    }
   ],
   "source": [
    "df.shape"
   ]
  },
  {
   "cell_type": "code",
   "execution_count": 44,
   "metadata": {
    "collapsed": true
   },
   "outputs": [],
   "source": [
    "df['lot_number'] = df['lot_number'].str.replace('.', '')"
   ]
  },
  {
   "cell_type": "code",
   "execution_count": 45,
   "metadata": {
    "collapsed": true
   },
   "outputs": [],
   "source": [
    " df = df[df['lot_number'].map(len) < 4]"
   ]
  },
  {
   "cell_type": "code",
   "execution_count": 46,
   "metadata": {},
   "outputs": [
    {
     "data": {
      "text/html": [
       "<div>\n",
       "<style scoped>\n",
       "    .dataframe tbody tr th:only-of-type {\n",
       "        vertical-align: middle;\n",
       "    }\n",
       "\n",
       "    .dataframe tbody tr th {\n",
       "        vertical-align: top;\n",
       "    }\n",
       "\n",
       "    .dataframe thead th {\n",
       "        text-align: right;\n",
       "    }\n",
       "</style>\n",
       "<table border=\"1\" class=\"dataframe\">\n",
       "  <thead>\n",
       "    <tr style=\"text-align: right;\">\n",
       "      <th></th>\n",
       "      <th>brand</th>\n",
       "      <th>condition</th>\n",
       "      <th>months_used</th>\n",
       "      <th>lot_number</th>\n",
       "      <th>engine_cc</th>\n",
       "      <th>make_year</th>\n",
       "      <th>kilometers</th>\n",
       "      <th>cost</th>\n",
       "    </tr>\n",
       "  </thead>\n",
       "  <tbody>\n",
       "  </tbody>\n",
       "</table>\n",
       "</div>"
      ],
      "text/plain": [
       "Empty DataFrame\n",
       "Columns: [brand, condition, months_used, lot_number, engine_cc, make_year, kilometers, cost]\n",
       "Index: []"
      ]
     },
     "execution_count": 46,
     "metadata": {},
     "output_type": "execute_result"
    }
   ],
   "source": [
    "df[df.lot_number.map(len) == 4]"
   ]
  },
  {
   "cell_type": "code",
   "execution_count": 47,
   "metadata": {},
   "outputs": [
    {
     "data": {
      "text/html": [
       "<div>\n",
       "<style scoped>\n",
       "    .dataframe tbody tr th:only-of-type {\n",
       "        vertical-align: middle;\n",
       "    }\n",
       "\n",
       "    .dataframe tbody tr th {\n",
       "        vertical-align: top;\n",
       "    }\n",
       "\n",
       "    .dataframe thead th {\n",
       "        text-align: right;\n",
       "    }\n",
       "</style>\n",
       "<table border=\"1\" class=\"dataframe\">\n",
       "  <thead>\n",
       "    <tr style=\"text-align: right;\">\n",
       "      <th></th>\n",
       "      <th>brand</th>\n",
       "      <th>condition</th>\n",
       "      <th>months_used</th>\n",
       "      <th>lot_number</th>\n",
       "      <th>engine_cc</th>\n",
       "      <th>make_year</th>\n",
       "      <th>kilometers</th>\n",
       "      <th>cost</th>\n",
       "    </tr>\n",
       "  </thead>\n",
       "  <tbody>\n",
       "    <tr>\n",
       "      <th>3361</th>\n",
       "      <td>bajaj</td>\n",
       "      <td>Like New (used few times)</td>\n",
       "      <td>12</td>\n",
       "      <td>125</td>\n",
       "      <td>125</td>\n",
       "      <td>NaN</td>\n",
       "      <td>NaN</td>\n",
       "      <td>90000</td>\n",
       "    </tr>\n",
       "  </tbody>\n",
       "</table>\n",
       "</div>"
      ],
      "text/plain": [
       "      brand                  condition months_used lot_number engine_cc  \\\n",
       "3361  bajaj  Like New (used few times)          12        125       125   \n",
       "\n",
       "     make_year kilometers   cost  \n",
       "3361       NaN        NaN  90000  "
      ]
     },
     "execution_count": 47,
     "metadata": {},
     "output_type": "execute_result"
    }
   ],
   "source": [
    "df[df.lot_number == '125']"
   ]
  },
  {
   "cell_type": "code",
   "execution_count": null,
   "metadata": {
    "collapsed": true
   },
   "outputs": [],
   "source": []
  },
  {
   "cell_type": "code",
   "execution_count": 48,
   "metadata": {},
   "outputs": [
    {
     "name": "stdout",
     "output_type": "stream",
     "text": [
      "<class 'pandas.core.frame.DataFrame'>\n",
      "Int64Index: 3460 entries, 0 to 3470\n",
      "Data columns (total 8 columns):\n",
      "brand          3460 non-null object\n",
      "condition      3460 non-null object\n",
      "months_used    3460 non-null object\n",
      "lot_number     3452 non-null float64\n",
      "engine_cc      3460 non-null object\n",
      "make_year      2494 non-null object\n",
      "kilometers     2664 non-null object\n",
      "cost           3460 non-null int64\n",
      "dtypes: float64(1), int64(1), object(6)\n",
      "memory usage: 243.3+ KB\n"
     ]
    },
    {
     "data": {
      "text/html": [
       "<div>\n",
       "<style scoped>\n",
       "    .dataframe tbody tr th:only-of-type {\n",
       "        vertical-align: middle;\n",
       "    }\n",
       "\n",
       "    .dataframe tbody tr th {\n",
       "        vertical-align: top;\n",
       "    }\n",
       "\n",
       "    .dataframe thead th {\n",
       "        text-align: right;\n",
       "    }\n",
       "</style>\n",
       "<table border=\"1\" class=\"dataframe\">\n",
       "  <thead>\n",
       "    <tr style=\"text-align: right;\">\n",
       "      <th></th>\n",
       "      <th>brand</th>\n",
       "      <th>condition</th>\n",
       "      <th>months_used</th>\n",
       "      <th>lot_number</th>\n",
       "      <th>engine_cc</th>\n",
       "      <th>make_year</th>\n",
       "      <th>kilometers</th>\n",
       "      <th>cost</th>\n",
       "    </tr>\n",
       "  </thead>\n",
       "  <tbody>\n",
       "    <tr>\n",
       "      <th>0</th>\n",
       "      <td>bajaj</td>\n",
       "      <td>Excellent</td>\n",
       "      <td>36</td>\n",
       "      <td>65.0</td>\n",
       "      <td>150</td>\n",
       "      <td>2015</td>\n",
       "      <td>NaN</td>\n",
       "      <td>135</td>\n",
       "    </tr>\n",
       "    <tr>\n",
       "      <th>1</th>\n",
       "      <td>yamaha</td>\n",
       "      <td>Good/Fair</td>\n",
       "      <td>5</td>\n",
       "      <td>32.0</td>\n",
       "      <td>153</td>\n",
       "      <td>2010</td>\n",
       "      <td>27000</td>\n",
       "      <td>85000</td>\n",
       "    </tr>\n",
       "    <tr>\n",
       "      <th>2</th>\n",
       "      <td>bajaj</td>\n",
       "      <td>Excellent</td>\n",
       "      <td>36</td>\n",
       "      <td>67.0</td>\n",
       "      <td>153</td>\n",
       "      <td>2015</td>\n",
       "      <td>23000</td>\n",
       "      <td>155</td>\n",
       "    </tr>\n",
       "    <tr>\n",
       "      <th>3</th>\n",
       "      <td>bajaj</td>\n",
       "      <td>Excellent</td>\n",
       "      <td>12</td>\n",
       "      <td>67.0</td>\n",
       "      <td>125</td>\n",
       "      <td>2015</td>\n",
       "      <td>NaN</td>\n",
       "      <td>115000</td>\n",
       "    </tr>\n",
       "    <tr>\n",
       "      <th>4</th>\n",
       "      <td>yamaha</td>\n",
       "      <td>Excellent</td>\n",
       "      <td>12</td>\n",
       "      <td>32.0</td>\n",
       "      <td>150</td>\n",
       "      <td>2009</td>\n",
       "      <td>NaN</td>\n",
       "      <td>68000</td>\n",
       "    </tr>\n",
       "  </tbody>\n",
       "</table>\n",
       "</div>"
      ],
      "text/plain": [
       "    brand  condition months_used  lot_number engine_cc make_year kilometers  \\\n",
       "0   bajaj  Excellent          36        65.0       150      2015        NaN   \n",
       "1  yamaha  Good/Fair           5        32.0       153      2010      27000   \n",
       "2   bajaj  Excellent          36        67.0       153      2015      23000   \n",
       "3   bajaj  Excellent          12        67.0       125      2015        NaN   \n",
       "4  yamaha  Excellent          12        32.0       150      2009        NaN   \n",
       "\n",
       "     cost  \n",
       "0     135  \n",
       "1   85000  \n",
       "2     155  \n",
       "3  115000  \n",
       "4   68000  "
      ]
     },
     "execution_count": 48,
     "metadata": {},
     "output_type": "execute_result"
    }
   ],
   "source": [
    "df['lot_number'] = df['lot_number'].astype(str)\n",
    "# df['lot_number'] = df[df['lot_number'] != 'Ga']\n",
    "# df['lot_number'] = df['lot_number'].astype(int)\n",
    "# .astype(int)\n",
    "# df['lot_number'] = df['lot_number'].apply(lambda x: x.isnumeric())\n",
    "\n",
    "# df.lot_number = pd.to_numeric(df.lot_number, errors='coerce')\n",
    "# df.info()\n",
    "\n",
    "def check_numeric(value):\n",
    "    try:\n",
    "        return int(value)\n",
    "    except:\n",
    "        return np.nan\n",
    "\n",
    "df['lot_number'] = df['lot_number'].apply(lambda x: check_numeric(x))\n",
    "df.info()\n",
    "\n",
    "df.head()"
   ]
  },
  {
   "cell_type": "code",
   "execution_count": 49,
   "metadata": {},
   "outputs": [
    {
     "data": {
      "text/plain": [
       "8"
      ]
     },
     "execution_count": 49,
     "metadata": {},
     "output_type": "execute_result"
    }
   ],
   "source": [
    "df.lot_number.isnull().sum()"
   ]
  },
  {
   "cell_type": "code",
   "execution_count": 50,
   "metadata": {
    "collapsed": true
   },
   "outputs": [],
   "source": [
    "df.dropna(\n",
    "    subset=['lot_number'],\n",
    "    how='any', inplace = True)"
   ]
  },
  {
   "cell_type": "code",
   "execution_count": 51,
   "metadata": {},
   "outputs": [
    {
     "data": {
      "text/plain": [
       "0"
      ]
     },
     "execution_count": 51,
     "metadata": {},
     "output_type": "execute_result"
    }
   ],
   "source": [
    "df.lot_number.isnull().sum()"
   ]
  },
  {
   "cell_type": "code",
   "execution_count": 52,
   "metadata": {
    "collapsed": true
   },
   "outputs": [],
   "source": [
    "df['lot_number'] = df['lot_number'].astype(int)"
   ]
  },
  {
   "cell_type": "code",
   "execution_count": 53,
   "metadata": {},
   "outputs": [
    {
     "name": "stdout",
     "output_type": "stream",
     "text": [
      "<class 'pandas.core.frame.DataFrame'>\n",
      "Int64Index: 3452 entries, 0 to 3470\n",
      "Data columns (total 8 columns):\n",
      "brand          3452 non-null object\n",
      "condition      3452 non-null object\n",
      "months_used    3452 non-null object\n",
      "lot_number     3452 non-null int64\n",
      "engine_cc      3452 non-null object\n",
      "make_year      2488 non-null object\n",
      "kilometers     2659 non-null object\n",
      "cost           3452 non-null int64\n",
      "dtypes: int64(2), object(6)\n",
      "memory usage: 242.7+ KB\n"
     ]
    }
   ],
   "source": [
    "df.info()"
   ]
  },
  {
   "cell_type": "code",
   "execution_count": 54,
   "metadata": {
    "collapsed": true
   },
   "outputs": [],
   "source": [
    "df.dropna(\n",
    "    subset=['lot_number'],\n",
    "    how='any', inplace = True)"
   ]
  },
  {
   "cell_type": "code",
   "execution_count": 55,
   "metadata": {
    "collapsed": true
   },
   "outputs": [],
   "source": [
    "def fill_na_non_numeric_char(make_year):\n",
    "    try:\n",
    "        if make_year.isdigit():\n",
    "            return make_year\n",
    "        else:\n",
    "            try:\n",
    "                make_year = float(make_year)\n",
    "                make_year = math.ceil(make_year)\n",
    "            except ValueError:\n",
    "                print (\"str\", make_year)\n",
    "                return np.nan\n",
    "    except:\n",
    "        return np.nan\n",
    "            \n",
    "    result = re.sub('[^0-9]','',str(make_year))\n",
    "    return result"
   ]
  },
  {
   "cell_type": "code",
   "execution_count": 56,
   "metadata": {},
   "outputs": [
    {
     "name": "stdout",
     "output_type": "stream",
     "text": [
      "str 3 year\n",
      "str A.20\n",
      "str -\n",
      "str -\n",
      "str 2 ye\n",
      "str n\n",
      "str 3 year\n"
     ]
    }
   ],
   "source": [
    "df['make_year'] = df['make_year'].apply(lambda x : fill_na_non_numeric_char(x))"
   ]
  },
  {
   "cell_type": "code",
   "execution_count": null,
   "metadata": {
    "collapsed": true
   },
   "outputs": [],
   "source": []
  },
  {
   "cell_type": "code",
   "execution_count": 57,
   "metadata": {
    "collapsed": true
   },
   "outputs": [],
   "source": [
    "# we can estimate the make_year based on lot_number and \n",
    "# looking up corresponing make_year for a given lot_number\n",
    "\n",
    "def get_make_year_based_on_lotnumber(lot_number):\n",
    "    make_year_series = df[df['lot_number']==lot_number]['make_year']\n",
    "    \n",
    "    if make_year_series.empty:\n",
    "        make_year = df.ix[\n",
    "            (df['lot_number']-lot_number).abs().argsort()[0]]['make_year']\n",
    "        \n",
    "        return make_year\n",
    "    \n",
    "    if make_year_series.dropna().empty:\n",
    "        return get_make_year_based_on_lotnumber(int(lot_number) - 1)\n",
    "    \n",
    "    return make_year_series.mode()[0]\n",
    "\n",
    "    "
   ]
  },
  {
   "cell_type": "code",
   "execution_count": 58,
   "metadata": {},
   "outputs": [
    {
     "name": "stderr",
     "output_type": "stream",
     "text": [
      "/home/leapfrong/workspace/envs/envpractice/lib/python3.5/site-packages/ipykernel_launcher.py:8: DeprecationWarning: \n",
      ".ix is deprecated. Please use\n",
      ".loc for label based indexing or\n",
      ".iloc for positional indexing\n",
      "\n",
      "See the documentation here:\n",
      "http://pandas.pydata.org/pandas-docs/stable/indexing.html#ix-indexer-is-deprecated\n",
      "  \n"
     ]
    }
   ],
   "source": [
    "df['make_year'] =  df.apply(\n",
    "    lambda x: get_make_year_based_on_lotnumber(x['lot_number'])\n",
    "    if pd.isnull(x['make_year']) else x['make_year'], axis=1)"
   ]
  },
  {
   "cell_type": "code",
   "execution_count": 59,
   "metadata": {},
   "outputs": [
    {
     "data": {
      "text/plain": [
       "0"
      ]
     },
     "execution_count": 59,
     "metadata": {},
     "output_type": "execute_result"
    }
   ],
   "source": [
    "df.make_year.isnull().sum()"
   ]
  },
  {
   "cell_type": "code",
   "execution_count": 60,
   "metadata": {
    "collapsed": true
   },
   "outputs": [],
   "source": [
    "df.dropna(\n",
    "    subset=['make_year'],\n",
    "    how='any', inplace = True)"
   ]
  },
  {
   "cell_type": "code",
   "execution_count": null,
   "metadata": {
    "collapsed": true
   },
   "outputs": [],
   "source": []
  },
  {
   "cell_type": "code",
   "execution_count": 61,
   "metadata": {},
   "outputs": [
    {
     "data": {
      "text/html": [
       "<div>\n",
       "<style scoped>\n",
       "    .dataframe tbody tr th:only-of-type {\n",
       "        vertical-align: middle;\n",
       "    }\n",
       "\n",
       "    .dataframe tbody tr th {\n",
       "        vertical-align: top;\n",
       "    }\n",
       "\n",
       "    .dataframe thead th {\n",
       "        text-align: right;\n",
       "    }\n",
       "</style>\n",
       "<table border=\"1\" class=\"dataframe\">\n",
       "  <thead>\n",
       "    <tr style=\"text-align: right;\">\n",
       "      <th></th>\n",
       "      <th>brand</th>\n",
       "      <th>condition</th>\n",
       "      <th>months_used</th>\n",
       "      <th>lot_number</th>\n",
       "      <th>engine_cc</th>\n",
       "      <th>make_year</th>\n",
       "      <th>kilometers</th>\n",
       "      <th>cost</th>\n",
       "    </tr>\n",
       "  </thead>\n",
       "  <tbody>\n",
       "    <tr>\n",
       "      <th>0</th>\n",
       "      <td>bajaj</td>\n",
       "      <td>Excellent</td>\n",
       "      <td>36</td>\n",
       "      <td>65</td>\n",
       "      <td>150</td>\n",
       "      <td>2015</td>\n",
       "      <td>NaN</td>\n",
       "      <td>135</td>\n",
       "    </tr>\n",
       "    <tr>\n",
       "      <th>1</th>\n",
       "      <td>yamaha</td>\n",
       "      <td>Good/Fair</td>\n",
       "      <td>5</td>\n",
       "      <td>32</td>\n",
       "      <td>153</td>\n",
       "      <td>2010</td>\n",
       "      <td>27000</td>\n",
       "      <td>85000</td>\n",
       "    </tr>\n",
       "    <tr>\n",
       "      <th>2</th>\n",
       "      <td>bajaj</td>\n",
       "      <td>Excellent</td>\n",
       "      <td>36</td>\n",
       "      <td>67</td>\n",
       "      <td>153</td>\n",
       "      <td>2015</td>\n",
       "      <td>23000</td>\n",
       "      <td>155</td>\n",
       "    </tr>\n",
       "    <tr>\n",
       "      <th>3</th>\n",
       "      <td>bajaj</td>\n",
       "      <td>Excellent</td>\n",
       "      <td>12</td>\n",
       "      <td>67</td>\n",
       "      <td>125</td>\n",
       "      <td>2015</td>\n",
       "      <td>NaN</td>\n",
       "      <td>115000</td>\n",
       "    </tr>\n",
       "    <tr>\n",
       "      <th>4</th>\n",
       "      <td>yamaha</td>\n",
       "      <td>Excellent</td>\n",
       "      <td>12</td>\n",
       "      <td>32</td>\n",
       "      <td>150</td>\n",
       "      <td>2009</td>\n",
       "      <td>NaN</td>\n",
       "      <td>68000</td>\n",
       "    </tr>\n",
       "  </tbody>\n",
       "</table>\n",
       "</div>"
      ],
      "text/plain": [
       "    brand  condition months_used  lot_number engine_cc make_year kilometers  \\\n",
       "0   bajaj  Excellent          36          65       150      2015        NaN   \n",
       "1  yamaha  Good/Fair           5          32       153      2010      27000   \n",
       "2   bajaj  Excellent          36          67       153      2015      23000   \n",
       "3   bajaj  Excellent          12          67       125      2015        NaN   \n",
       "4  yamaha  Excellent          12          32       150      2009        NaN   \n",
       "\n",
       "     cost  \n",
       "0     135  \n",
       "1   85000  \n",
       "2     155  \n",
       "3  115000  \n",
       "4   68000  "
      ]
     },
     "execution_count": 61,
     "metadata": {},
     "output_type": "execute_result"
    }
   ],
   "source": [
    "df.head()"
   ]
  },
  {
   "cell_type": "code",
   "execution_count": 62,
   "metadata": {},
   "outputs": [
    {
     "name": "stdout",
     "output_type": "stream",
     "text": [
      "<class 'pandas.core.frame.DataFrame'>\n",
      "Int64Index: 3452 entries, 0 to 3470\n",
      "Data columns (total 8 columns):\n",
      "brand          3452 non-null object\n",
      "condition      3452 non-null object\n",
      "months_used    3452 non-null object\n",
      "lot_number     3452 non-null int64\n",
      "engine_cc      3452 non-null object\n",
      "make_year      3452 non-null object\n",
      "kilometers     2659 non-null object\n",
      "cost           3452 non-null int64\n",
      "dtypes: int64(2), object(6)\n",
      "memory usage: 242.7+ KB\n"
     ]
    }
   ],
   "source": [
    "df.info()"
   ]
  },
  {
   "cell_type": "code",
   "execution_count": 63,
   "metadata": {
    "collapsed": true
   },
   "outputs": [],
   "source": [
    "df = df[df.make_year != '015.016']"
   ]
  },
  {
   "cell_type": "code",
   "execution_count": 64,
   "metadata": {
    "collapsed": true
   },
   "outputs": [],
   "source": [
    "df['make_year'] = df['make_year'].astype(str).astype(int)"
   ]
  },
  {
   "cell_type": "markdown",
   "metadata": {},
   "source": [
    "### Fill Missing Values for kilometers"
   ]
  },
  {
   "cell_type": "code",
   "execution_count": null,
   "metadata": {
    "collapsed": true
   },
   "outputs": [],
   "source": []
  },
  {
   "cell_type": "code",
   "execution_count": 65,
   "metadata": {},
   "outputs": [
    {
     "data": {
      "text/plain": [
       "793"
      ]
     },
     "execution_count": 65,
     "metadata": {},
     "output_type": "execute_result"
    }
   ],
   "source": [
    "df.kilometers.isnull().sum()"
   ]
  },
  {
   "cell_type": "code",
   "execution_count": 66,
   "metadata": {},
   "outputs": [
    {
     "data": {
      "text/html": [
       "<div>\n",
       "<style scoped>\n",
       "    .dataframe tbody tr th:only-of-type {\n",
       "        vertical-align: middle;\n",
       "    }\n",
       "\n",
       "    .dataframe tbody tr th {\n",
       "        vertical-align: top;\n",
       "    }\n",
       "\n",
       "    .dataframe thead th {\n",
       "        text-align: right;\n",
       "    }\n",
       "</style>\n",
       "<table border=\"1\" class=\"dataframe\">\n",
       "  <thead>\n",
       "    <tr style=\"text-align: right;\">\n",
       "      <th></th>\n",
       "      <th>brand</th>\n",
       "      <th>condition</th>\n",
       "      <th>months_used</th>\n",
       "      <th>lot_number</th>\n",
       "      <th>engine_cc</th>\n",
       "      <th>make_year</th>\n",
       "      <th>kilometers</th>\n",
       "      <th>cost</th>\n",
       "    </tr>\n",
       "  </thead>\n",
       "  <tbody>\n",
       "    <tr>\n",
       "      <th>0</th>\n",
       "      <td>bajaj</td>\n",
       "      <td>Excellent</td>\n",
       "      <td>36</td>\n",
       "      <td>65</td>\n",
       "      <td>150</td>\n",
       "      <td>2015</td>\n",
       "      <td>NaN</td>\n",
       "      <td>135</td>\n",
       "    </tr>\n",
       "    <tr>\n",
       "      <th>1</th>\n",
       "      <td>yamaha</td>\n",
       "      <td>Good/Fair</td>\n",
       "      <td>5</td>\n",
       "      <td>32</td>\n",
       "      <td>153</td>\n",
       "      <td>2010</td>\n",
       "      <td>27000</td>\n",
       "      <td>85000</td>\n",
       "    </tr>\n",
       "    <tr>\n",
       "      <th>2</th>\n",
       "      <td>bajaj</td>\n",
       "      <td>Excellent</td>\n",
       "      <td>36</td>\n",
       "      <td>67</td>\n",
       "      <td>153</td>\n",
       "      <td>2015</td>\n",
       "      <td>23000</td>\n",
       "      <td>155</td>\n",
       "    </tr>\n",
       "    <tr>\n",
       "      <th>3</th>\n",
       "      <td>bajaj</td>\n",
       "      <td>Excellent</td>\n",
       "      <td>12</td>\n",
       "      <td>67</td>\n",
       "      <td>125</td>\n",
       "      <td>2015</td>\n",
       "      <td>NaN</td>\n",
       "      <td>115000</td>\n",
       "    </tr>\n",
       "    <tr>\n",
       "      <th>4</th>\n",
       "      <td>yamaha</td>\n",
       "      <td>Excellent</td>\n",
       "      <td>12</td>\n",
       "      <td>32</td>\n",
       "      <td>150</td>\n",
       "      <td>2009</td>\n",
       "      <td>NaN</td>\n",
       "      <td>68000</td>\n",
       "    </tr>\n",
       "  </tbody>\n",
       "</table>\n",
       "</div>"
      ],
      "text/plain": [
       "    brand  condition months_used  lot_number engine_cc  make_year kilometers  \\\n",
       "0   bajaj  Excellent          36          65       150       2015        NaN   \n",
       "1  yamaha  Good/Fair           5          32       153       2010      27000   \n",
       "2   bajaj  Excellent          36          67       153       2015      23000   \n",
       "3   bajaj  Excellent          12          67       125       2015        NaN   \n",
       "4  yamaha  Excellent          12          32       150       2009        NaN   \n",
       "\n",
       "     cost  \n",
       "0     135  \n",
       "1   85000  \n",
       "2     155  \n",
       "3  115000  \n",
       "4   68000  "
      ]
     },
     "execution_count": 66,
     "metadata": {},
     "output_type": "execute_result"
    }
   ],
   "source": [
    "df.head()"
   ]
  },
  {
   "cell_type": "code",
   "execution_count": 67,
   "metadata": {
    "collapsed": true
   },
   "outputs": [],
   "source": [
    "# let us fill up null kilometers based on months_used (mode value)\n",
    "\n",
    "def get_kilometers_based_on_months_used(months):\n",
    "    km_series = df[df['months_used']==months]['kilometers']\n",
    "    if km_series.empty:\n",
    "        return get_kilometers_based_on_months_used(months - 1)\n",
    "    \n",
    "    if km_series.dropna().empty:\n",
    "        return get_kilometers_based_on_months_used(months - 1)\n",
    "    return km_series.mode()[0]\n"
   ]
  },
  {
   "cell_type": "code",
   "execution_count": 68,
   "metadata": {
    "collapsed": true
   },
   "outputs": [],
   "source": [
    "df['kilometers'] = df.apply(\n",
    "    lambda x : get_kilometers_based_on_months_used(x['months_used'])\n",
    "    if pd.isnull(x['kilometers']) else x['kilometers'], axis=1)"
   ]
  },
  {
   "cell_type": "code",
   "execution_count": 69,
   "metadata": {},
   "outputs": [
    {
     "data": {
      "text/plain": [
       "0"
      ]
     },
     "execution_count": 69,
     "metadata": {},
     "output_type": "execute_result"
    }
   ],
   "source": [
    "df.kilometers.isnull().sum()"
   ]
  },
  {
   "cell_type": "code",
   "execution_count": null,
   "metadata": {
    "collapsed": true
   },
   "outputs": [],
   "source": []
  },
  {
   "cell_type": "code",
   "execution_count": 70,
   "metadata": {},
   "outputs": [
    {
     "data": {
      "text/html": [
       "<div>\n",
       "<style scoped>\n",
       "    .dataframe tbody tr th:only-of-type {\n",
       "        vertical-align: middle;\n",
       "    }\n",
       "\n",
       "    .dataframe tbody tr th {\n",
       "        vertical-align: top;\n",
       "    }\n",
       "\n",
       "    .dataframe thead th {\n",
       "        text-align: right;\n",
       "    }\n",
       "</style>\n",
       "<table border=\"1\" class=\"dataframe\">\n",
       "  <thead>\n",
       "    <tr style=\"text-align: right;\">\n",
       "      <th></th>\n",
       "      <th>brand</th>\n",
       "      <th>condition</th>\n",
       "      <th>months_used</th>\n",
       "      <th>lot_number</th>\n",
       "      <th>engine_cc</th>\n",
       "      <th>make_year</th>\n",
       "      <th>kilometers</th>\n",
       "      <th>cost</th>\n",
       "    </tr>\n",
       "  </thead>\n",
       "  <tbody>\n",
       "  </tbody>\n",
       "</table>\n",
       "</div>"
      ],
      "text/plain": [
       "Empty DataFrame\n",
       "Columns: [brand, condition, months_used, lot_number, engine_cc, make_year, kilometers, cost]\n",
       "Index: []"
      ]
     },
     "execution_count": 70,
     "metadata": {},
     "output_type": "execute_result"
    }
   ],
   "source": [
    "df[df['kilometers'].isnull()]"
   ]
  },
  {
   "cell_type": "code",
   "execution_count": 71,
   "metadata": {},
   "outputs": [
    {
     "data": {
      "text/html": [
       "<div>\n",
       "<style scoped>\n",
       "    .dataframe tbody tr th:only-of-type {\n",
       "        vertical-align: middle;\n",
       "    }\n",
       "\n",
       "    .dataframe tbody tr th {\n",
       "        vertical-align: top;\n",
       "    }\n",
       "\n",
       "    .dataframe thead th {\n",
       "        text-align: right;\n",
       "    }\n",
       "</style>\n",
       "<table border=\"1\" class=\"dataframe\">\n",
       "  <thead>\n",
       "    <tr style=\"text-align: right;\">\n",
       "      <th></th>\n",
       "      <th>brand</th>\n",
       "      <th>condition</th>\n",
       "      <th>months_used</th>\n",
       "      <th>lot_number</th>\n",
       "      <th>engine_cc</th>\n",
       "      <th>make_year</th>\n",
       "      <th>kilometers</th>\n",
       "      <th>cost</th>\n",
       "    </tr>\n",
       "  </thead>\n",
       "  <tbody>\n",
       "    <tr>\n",
       "      <th>0</th>\n",
       "      <td>bajaj</td>\n",
       "      <td>Excellent</td>\n",
       "      <td>36</td>\n",
       "      <td>65</td>\n",
       "      <td>150</td>\n",
       "      <td>2015</td>\n",
       "      <td>30000</td>\n",
       "      <td>135</td>\n",
       "    </tr>\n",
       "    <tr>\n",
       "      <th>1</th>\n",
       "      <td>yamaha</td>\n",
       "      <td>Good/Fair</td>\n",
       "      <td>5</td>\n",
       "      <td>32</td>\n",
       "      <td>153</td>\n",
       "      <td>2010</td>\n",
       "      <td>27000</td>\n",
       "      <td>85000</td>\n",
       "    </tr>\n",
       "    <tr>\n",
       "      <th>2</th>\n",
       "      <td>bajaj</td>\n",
       "      <td>Excellent</td>\n",
       "      <td>36</td>\n",
       "      <td>67</td>\n",
       "      <td>153</td>\n",
       "      <td>2015</td>\n",
       "      <td>23000</td>\n",
       "      <td>155</td>\n",
       "    </tr>\n",
       "    <tr>\n",
       "      <th>3</th>\n",
       "      <td>bajaj</td>\n",
       "      <td>Excellent</td>\n",
       "      <td>12</td>\n",
       "      <td>67</td>\n",
       "      <td>125</td>\n",
       "      <td>2015</td>\n",
       "      <td>12000</td>\n",
       "      <td>115000</td>\n",
       "    </tr>\n",
       "    <tr>\n",
       "      <th>4</th>\n",
       "      <td>yamaha</td>\n",
       "      <td>Excellent</td>\n",
       "      <td>12</td>\n",
       "      <td>32</td>\n",
       "      <td>150</td>\n",
       "      <td>2009</td>\n",
       "      <td>12000</td>\n",
       "      <td>68000</td>\n",
       "    </tr>\n",
       "    <tr>\n",
       "      <th>5</th>\n",
       "      <td>bajaj</td>\n",
       "      <td>Like New (used few times)</td>\n",
       "      <td>12</td>\n",
       "      <td>65</td>\n",
       "      <td>220</td>\n",
       "      <td>2015</td>\n",
       "      <td>16800</td>\n",
       "      <td>164000</td>\n",
       "    </tr>\n",
       "    <tr>\n",
       "      <th>6</th>\n",
       "      <td>bajaj</td>\n",
       "      <td>Excellent</td>\n",
       "      <td>36</td>\n",
       "      <td>71</td>\n",
       "      <td>109</td>\n",
       "      <td>2015</td>\n",
       "      <td>13.5k</td>\n",
       "      <td>130000</td>\n",
       "    </tr>\n",
       "    <tr>\n",
       "      <th>7</th>\n",
       "      <td>bajaj</td>\n",
       "      <td>Good/Fair</td>\n",
       "      <td>48</td>\n",
       "      <td>9</td>\n",
       "      <td>109</td>\n",
       "      <td>2014</td>\n",
       "      <td>19000</td>\n",
       "      <td>150000</td>\n",
       "    </tr>\n",
       "    <tr>\n",
       "      <th>8</th>\n",
       "      <td>bajaj</td>\n",
       "      <td>Like New (used few times)</td>\n",
       "      <td>2</td>\n",
       "      <td>96</td>\n",
       "      <td>200</td>\n",
       "      <td>2018</td>\n",
       "      <td>3000</td>\n",
       "      <td>305000</td>\n",
       "    </tr>\n",
       "    <tr>\n",
       "      <th>9</th>\n",
       "      <td>honda</td>\n",
       "      <td>Excellent</td>\n",
       "      <td>12</td>\n",
       "      <td>81</td>\n",
       "      <td>160</td>\n",
       "      <td>2017</td>\n",
       "      <td>13000</td>\n",
       "      <td>185000</td>\n",
       "    </tr>\n",
       "  </tbody>\n",
       "</table>\n",
       "</div>"
      ],
      "text/plain": [
       "    brand                  condition months_used  lot_number engine_cc  \\\n",
       "0   bajaj                  Excellent          36          65       150   \n",
       "1  yamaha                  Good/Fair           5          32       153   \n",
       "2   bajaj                  Excellent          36          67       153   \n",
       "3   bajaj                  Excellent          12          67       125   \n",
       "4  yamaha                  Excellent          12          32       150   \n",
       "5   bajaj  Like New (used few times)          12          65       220   \n",
       "6   bajaj                  Excellent          36          71       109   \n",
       "7   bajaj                  Good/Fair          48           9       109   \n",
       "8   bajaj  Like New (used few times)           2          96       200   \n",
       "9   honda                  Excellent          12          81       160   \n",
       "\n",
       "   make_year kilometers    cost  \n",
       "0       2015      30000     135  \n",
       "1       2010      27000   85000  \n",
       "2       2015      23000     155  \n",
       "3       2015      12000  115000  \n",
       "4       2009      12000   68000  \n",
       "5       2015      16800  164000  \n",
       "6       2015      13.5k  130000  \n",
       "7       2014      19000  150000  \n",
       "8       2018       3000  305000  \n",
       "9       2017      13000  185000  "
      ]
     },
     "execution_count": 71,
     "metadata": {},
     "output_type": "execute_result"
    }
   ],
   "source": [
    "df.head(10)"
   ]
  },
  {
   "cell_type": "code",
   "execution_count": 72,
   "metadata": {
    "collapsed": true
   },
   "outputs": [],
   "source": [
    "# let us remove rows having kilometers < 1000, (removing outliers)\n",
    "df = df[df['kilometers'].map(len) > 4]"
   ]
  },
  {
   "cell_type": "code",
   "execution_count": 73,
   "metadata": {},
   "outputs": [
    {
     "data": {
      "text/html": [
       "<div>\n",
       "<style scoped>\n",
       "    .dataframe tbody tr th:only-of-type {\n",
       "        vertical-align: middle;\n",
       "    }\n",
       "\n",
       "    .dataframe tbody tr th {\n",
       "        vertical-align: top;\n",
       "    }\n",
       "\n",
       "    .dataframe thead th {\n",
       "        text-align: right;\n",
       "    }\n",
       "</style>\n",
       "<table border=\"1\" class=\"dataframe\">\n",
       "  <thead>\n",
       "    <tr style=\"text-align: right;\">\n",
       "      <th></th>\n",
       "      <th>brand</th>\n",
       "      <th>condition</th>\n",
       "      <th>months_used</th>\n",
       "      <th>lot_number</th>\n",
       "      <th>engine_cc</th>\n",
       "      <th>make_year</th>\n",
       "      <th>kilometers</th>\n",
       "      <th>cost</th>\n",
       "    </tr>\n",
       "  </thead>\n",
       "  <tbody>\n",
       "    <tr>\n",
       "      <th>3464</th>\n",
       "      <td>yamaha</td>\n",
       "      <td>Excellent</td>\n",
       "      <td>12</td>\n",
       "      <td>4</td>\n",
       "      <td>100</td>\n",
       "      <td>2009</td>\n",
       "      <td>29000</td>\n",
       "      <td>45000</td>\n",
       "    </tr>\n",
       "    <tr>\n",
       "      <th>3465</th>\n",
       "      <td>honda</td>\n",
       "      <td>Excellent</td>\n",
       "      <td>96</td>\n",
       "      <td>23</td>\n",
       "      <td>150</td>\n",
       "      <td>200</td>\n",
       "      <td>24000</td>\n",
       "      <td>80000</td>\n",
       "    </tr>\n",
       "    <tr>\n",
       "      <th>3466</th>\n",
       "      <td>vespa</td>\n",
       "      <td>Like New (used few times)</td>\n",
       "      <td>12</td>\n",
       "      <td>11</td>\n",
       "      <td>150</td>\n",
       "      <td>2016</td>\n",
       "      <td>12000</td>\n",
       "      <td>110000</td>\n",
       "    </tr>\n",
       "    <tr>\n",
       "      <th>3467</th>\n",
       "      <td>bajaj</td>\n",
       "      <td>Excellent</td>\n",
       "      <td>36</td>\n",
       "      <td>62</td>\n",
       "      <td>230</td>\n",
       "      <td>2014</td>\n",
       "      <td>36000</td>\n",
       "      <td>130000</td>\n",
       "    </tr>\n",
       "    <tr>\n",
       "      <th>3469</th>\n",
       "      <td>honda</td>\n",
       "      <td>Good/Fair</td>\n",
       "      <td>12</td>\n",
       "      <td>7</td>\n",
       "      <td>100</td>\n",
       "      <td>2012</td>\n",
       "      <td>12000</td>\n",
       "      <td>50000</td>\n",
       "    </tr>\n",
       "  </tbody>\n",
       "</table>\n",
       "</div>"
      ],
      "text/plain": [
       "       brand                  condition months_used  lot_number engine_cc  \\\n",
       "3464  yamaha                  Excellent          12           4       100   \n",
       "3465   honda                  Excellent          96          23       150   \n",
       "3466   vespa  Like New (used few times)          12          11       150   \n",
       "3467   bajaj                  Excellent          36          62       230   \n",
       "3469   honda                  Good/Fair          12           7       100   \n",
       "\n",
       "      make_year kilometers    cost  \n",
       "3464       2009      29000   45000  \n",
       "3465        200      24000   80000  \n",
       "3466       2016      12000  110000  \n",
       "3467       2014      36000  130000  \n",
       "3469       2012      12000   50000  "
      ]
     },
     "execution_count": 73,
     "metadata": {},
     "output_type": "execute_result"
    }
   ],
   "source": [
    "df.tail()"
   ]
  },
  {
   "cell_type": "code",
   "execution_count": 74,
   "metadata": {
    "collapsed": true
   },
   "outputs": [],
   "source": [
    "df['kilometers'] = df['kilometers'].str.replace('+', '')\n",
    "df['kilometers'] = df['kilometers'].str.replace(',', '')"
   ]
  },
  {
   "cell_type": "code",
   "execution_count": 75,
   "metadata": {
    "collapsed": true
   },
   "outputs": [],
   "source": [
    "# replace kilimeter abbr. (k) with multiplication of 1000\n",
    "\n",
    "def remove_kilo_abbr(kilo):\n",
    "    if kilo:\n",
    "        kilo = re.sub(r\"(\\d+)(k)\", r\"\\g<1>000\", kilo.replace('.', ''))\n",
    "        return kilo.strip()\n",
    "\n",
    "def remove_thousand_abbr(kilo):\n",
    "    print('kilo is', kilo)\n",
    "    kilo_values = kilo.split(\" \")\n",
    "    if len(kilo_values)==2:\n",
    "        if kilo_values[1].lower().strip().startswith('th'):\n",
    "            return str(int(kilo_values[0]) * 1000)\n",
    "    else:\n",
    "        int_val = int(re.search(r'\\d+', kilo).group())\n",
    "        return str(int_val * 1000)\n",
    "\n",
    "def remove_non_numeric_char(kilo):\n",
    "    result = re.sub('[^0-9]','', kilo)\n",
    "    return result"
   ]
  },
  {
   "cell_type": "code",
   "execution_count": 76,
   "metadata": {
    "collapsed": true
   },
   "outputs": [],
   "source": [
    "df['kilometers'] = df['kilometers'].apply(lambda x: remove_kilo_abbr(x))\n",
    "df['kilometers'] = df['kilometers'].apply(lambda x: remove_non_numeric_char(x))"
   ]
  },
  {
   "cell_type": "code",
   "execution_count": 77,
   "metadata": {},
   "outputs": [
    {
     "data": {
      "text/plain": [
       "0"
      ]
     },
     "execution_count": 77,
     "metadata": {},
     "output_type": "execute_result"
    }
   ],
   "source": [
    "df.kilometers.isnull().sum()"
   ]
  },
  {
   "cell_type": "code",
   "execution_count": 78,
   "metadata": {},
   "outputs": [
    {
     "data": {
      "text/html": [
       "<div>\n",
       "<style scoped>\n",
       "    .dataframe tbody tr th:only-of-type {\n",
       "        vertical-align: middle;\n",
       "    }\n",
       "\n",
       "    .dataframe tbody tr th {\n",
       "        vertical-align: top;\n",
       "    }\n",
       "\n",
       "    .dataframe thead th {\n",
       "        text-align: right;\n",
       "    }\n",
       "</style>\n",
       "<table border=\"1\" class=\"dataframe\">\n",
       "  <thead>\n",
       "    <tr style=\"text-align: right;\">\n",
       "      <th></th>\n",
       "      <th>brand</th>\n",
       "      <th>condition</th>\n",
       "      <th>months_used</th>\n",
       "      <th>lot_number</th>\n",
       "      <th>engine_cc</th>\n",
       "      <th>make_year</th>\n",
       "      <th>kilometers</th>\n",
       "      <th>cost</th>\n",
       "    </tr>\n",
       "  </thead>\n",
       "  <tbody>\n",
       "  </tbody>\n",
       "</table>\n",
       "</div>"
      ],
      "text/plain": [
       "Empty DataFrame\n",
       "Columns: [brand, condition, months_used, lot_number, engine_cc, make_year, kilometers, cost]\n",
       "Index: []"
      ]
     },
     "execution_count": 78,
     "metadata": {},
     "output_type": "execute_result"
    }
   ],
   "source": [
    "df[df.kilometers == '40 tho']"
   ]
  },
  {
   "cell_type": "code",
   "execution_count": 79,
   "metadata": {
    "collapsed": true
   },
   "outputs": [],
   "source": [
    "df['kilometers'] = df['kilometers'].apply(\n",
    "    lambda x: remove_thousand_abbr(x) if 'th' in x else x)\n"
   ]
  },
  {
   "cell_type": "code",
   "execution_count": 80,
   "metadata": {},
   "outputs": [
    {
     "data": {
      "text/html": [
       "<div>\n",
       "<style scoped>\n",
       "    .dataframe tbody tr th:only-of-type {\n",
       "        vertical-align: middle;\n",
       "    }\n",
       "\n",
       "    .dataframe tbody tr th {\n",
       "        vertical-align: top;\n",
       "    }\n",
       "\n",
       "    .dataframe thead th {\n",
       "        text-align: right;\n",
       "    }\n",
       "</style>\n",
       "<table border=\"1\" class=\"dataframe\">\n",
       "  <thead>\n",
       "    <tr style=\"text-align: right;\">\n",
       "      <th></th>\n",
       "      <th>brand</th>\n",
       "      <th>condition</th>\n",
       "      <th>months_used</th>\n",
       "      <th>lot_number</th>\n",
       "      <th>engine_cc</th>\n",
       "      <th>make_year</th>\n",
       "      <th>kilometers</th>\n",
       "      <th>cost</th>\n",
       "    </tr>\n",
       "  </thead>\n",
       "  <tbody>\n",
       "    <tr>\n",
       "      <th>0</th>\n",
       "      <td>bajaj</td>\n",
       "      <td>Excellent</td>\n",
       "      <td>36</td>\n",
       "      <td>65</td>\n",
       "      <td>150</td>\n",
       "      <td>2015</td>\n",
       "      <td>30000</td>\n",
       "      <td>135</td>\n",
       "    </tr>\n",
       "    <tr>\n",
       "      <th>1</th>\n",
       "      <td>yamaha</td>\n",
       "      <td>Good/Fair</td>\n",
       "      <td>5</td>\n",
       "      <td>32</td>\n",
       "      <td>153</td>\n",
       "      <td>2010</td>\n",
       "      <td>27000</td>\n",
       "      <td>85000</td>\n",
       "    </tr>\n",
       "    <tr>\n",
       "      <th>2</th>\n",
       "      <td>bajaj</td>\n",
       "      <td>Excellent</td>\n",
       "      <td>36</td>\n",
       "      <td>67</td>\n",
       "      <td>153</td>\n",
       "      <td>2015</td>\n",
       "      <td>23000</td>\n",
       "      <td>155</td>\n",
       "    </tr>\n",
       "    <tr>\n",
       "      <th>3</th>\n",
       "      <td>bajaj</td>\n",
       "      <td>Excellent</td>\n",
       "      <td>12</td>\n",
       "      <td>67</td>\n",
       "      <td>125</td>\n",
       "      <td>2015</td>\n",
       "      <td>12000</td>\n",
       "      <td>115000</td>\n",
       "    </tr>\n",
       "    <tr>\n",
       "      <th>4</th>\n",
       "      <td>yamaha</td>\n",
       "      <td>Excellent</td>\n",
       "      <td>12</td>\n",
       "      <td>32</td>\n",
       "      <td>150</td>\n",
       "      <td>2009</td>\n",
       "      <td>12000</td>\n",
       "      <td>68000</td>\n",
       "    </tr>\n",
       "  </tbody>\n",
       "</table>\n",
       "</div>"
      ],
      "text/plain": [
       "    brand  condition months_used  lot_number engine_cc  make_year kilometers  \\\n",
       "0   bajaj  Excellent          36          65       150       2015      30000   \n",
       "1  yamaha  Good/Fair           5          32       153       2010      27000   \n",
       "2   bajaj  Excellent          36          67       153       2015      23000   \n",
       "3   bajaj  Excellent          12          67       125       2015      12000   \n",
       "4  yamaha  Excellent          12          32       150       2009      12000   \n",
       "\n",
       "     cost  \n",
       "0     135  \n",
       "1   85000  \n",
       "2     155  \n",
       "3  115000  \n",
       "4   68000  "
      ]
     },
     "execution_count": 80,
     "metadata": {},
     "output_type": "execute_result"
    }
   ],
   "source": [
    "df.head()"
   ]
  },
  {
   "cell_type": "code",
   "execution_count": 81,
   "metadata": {},
   "outputs": [
    {
     "data": {
      "text/plain": [
       "(2483, 8)"
      ]
     },
     "execution_count": 81,
     "metadata": {},
     "output_type": "execute_result"
    }
   ],
   "source": [
    "df.shape"
   ]
  },
  {
   "cell_type": "code",
   "execution_count": 82,
   "metadata": {
    "collapsed": true
   },
   "outputs": [],
   "source": [
    "# remove empty kilometers rows\n",
    "df = df[df.kilometers.map(len) !=0]"
   ]
  },
  {
   "cell_type": "code",
   "execution_count": 83,
   "metadata": {},
   "outputs": [
    {
     "data": {
      "text/html": [
       "<div>\n",
       "<style scoped>\n",
       "    .dataframe tbody tr th:only-of-type {\n",
       "        vertical-align: middle;\n",
       "    }\n",
       "\n",
       "    .dataframe tbody tr th {\n",
       "        vertical-align: top;\n",
       "    }\n",
       "\n",
       "    .dataframe thead th {\n",
       "        text-align: right;\n",
       "    }\n",
       "</style>\n",
       "<table border=\"1\" class=\"dataframe\">\n",
       "  <thead>\n",
       "    <tr style=\"text-align: right;\">\n",
       "      <th></th>\n",
       "      <th>brand</th>\n",
       "      <th>condition</th>\n",
       "      <th>months_used</th>\n",
       "      <th>lot_number</th>\n",
       "      <th>engine_cc</th>\n",
       "      <th>make_year</th>\n",
       "      <th>kilometers</th>\n",
       "      <th>cost</th>\n",
       "    </tr>\n",
       "  </thead>\n",
       "  <tbody>\n",
       "    <tr>\n",
       "      <th>834</th>\n",
       "      <td>bajaj</td>\n",
       "      <td>Excellent</td>\n",
       "      <td>10</td>\n",
       "      <td>88</td>\n",
       "      <td></td>\n",
       "      <td>2017</td>\n",
       "      <td>10000</td>\n",
       "      <td>245000</td>\n",
       "    </tr>\n",
       "    <tr>\n",
       "      <th>2372</th>\n",
       "      <td>bajaj</td>\n",
       "      <td>Good/Fair</td>\n",
       "      <td>120</td>\n",
       "      <td>10</td>\n",
       "      <td></td>\n",
       "      <td>2000</td>\n",
       "      <td>25000</td>\n",
       "      <td>40000</td>\n",
       "    </tr>\n",
       "    <tr>\n",
       "      <th>2975</th>\n",
       "      <td>bajaj</td>\n",
       "      <td>Excellent</td>\n",
       "      <td>8</td>\n",
       "      <td>80</td>\n",
       "      <td></td>\n",
       "      <td>2016</td>\n",
       "      <td>10000</td>\n",
       "      <td>420000</td>\n",
       "    </tr>\n",
       "  </tbody>\n",
       "</table>\n",
       "</div>"
      ],
      "text/plain": [
       "      brand  condition months_used  lot_number engine_cc  make_year  \\\n",
       "834   bajaj  Excellent          10          88                 2017   \n",
       "2372  bajaj  Good/Fair         120          10                 2000   \n",
       "2975  bajaj  Excellent           8          80                 2016   \n",
       "\n",
       "     kilometers    cost  \n",
       "834       10000  245000  \n",
       "2372      25000   40000  \n",
       "2975      10000  420000  "
      ]
     },
     "execution_count": 83,
     "metadata": {},
     "output_type": "execute_result"
    }
   ],
   "source": [
    "df[df.engine_cc =='']"
   ]
  },
  {
   "cell_type": "code",
   "execution_count": 84,
   "metadata": {
    "collapsed": true
   },
   "outputs": [],
   "source": [
    "df = df[df.engine_cc !='']"
   ]
  },
  {
   "cell_type": "code",
   "execution_count": 85,
   "metadata": {
    "collapsed": true
   },
   "outputs": [],
   "source": [
    "df['condition'] = df['condition'].astype(str)\n",
    "df['kilometers'] = df['kilometers'].astype(str).astype(int)\n",
    "df['months_used'] = df['months_used'].astype(str).astype(int)\n",
    "df['engine_cc'] = df['engine_cc'].astype(str).astype(int)"
   ]
  },
  {
   "cell_type": "code",
   "execution_count": 86,
   "metadata": {
    "collapsed": true
   },
   "outputs": [],
   "source": [
    "# add new feature travel_years(number of years)\n",
    "import datetime\n",
    "\n",
    "this_year = datetime.datetime.today().year\n",
    "\n",
    "df['auto_age'] = df['make_year'].apply(lambda x: this_year - x)"
   ]
  },
  {
   "cell_type": "code",
   "execution_count": 87,
   "metadata": {},
   "outputs": [
    {
     "data": {
      "text/html": [
       "<div>\n",
       "<style scoped>\n",
       "    .dataframe tbody tr th:only-of-type {\n",
       "        vertical-align: middle;\n",
       "    }\n",
       "\n",
       "    .dataframe tbody tr th {\n",
       "        vertical-align: top;\n",
       "    }\n",
       "\n",
       "    .dataframe thead th {\n",
       "        text-align: right;\n",
       "    }\n",
       "</style>\n",
       "<table border=\"1\" class=\"dataframe\">\n",
       "  <thead>\n",
       "    <tr style=\"text-align: right;\">\n",
       "      <th></th>\n",
       "      <th>brand</th>\n",
       "      <th>condition</th>\n",
       "      <th>months_used</th>\n",
       "      <th>lot_number</th>\n",
       "      <th>engine_cc</th>\n",
       "      <th>make_year</th>\n",
       "      <th>kilometers</th>\n",
       "      <th>cost</th>\n",
       "      <th>auto_age</th>\n",
       "    </tr>\n",
       "  </thead>\n",
       "  <tbody>\n",
       "    <tr>\n",
       "      <th>0</th>\n",
       "      <td>bajaj</td>\n",
       "      <td>Excellent</td>\n",
       "      <td>36</td>\n",
       "      <td>65</td>\n",
       "      <td>150</td>\n",
       "      <td>2015</td>\n",
       "      <td>30000</td>\n",
       "      <td>135</td>\n",
       "      <td>3</td>\n",
       "    </tr>\n",
       "    <tr>\n",
       "      <th>1</th>\n",
       "      <td>yamaha</td>\n",
       "      <td>Good/Fair</td>\n",
       "      <td>5</td>\n",
       "      <td>32</td>\n",
       "      <td>153</td>\n",
       "      <td>2010</td>\n",
       "      <td>27000</td>\n",
       "      <td>85000</td>\n",
       "      <td>8</td>\n",
       "    </tr>\n",
       "    <tr>\n",
       "      <th>2</th>\n",
       "      <td>bajaj</td>\n",
       "      <td>Excellent</td>\n",
       "      <td>36</td>\n",
       "      <td>67</td>\n",
       "      <td>153</td>\n",
       "      <td>2015</td>\n",
       "      <td>23000</td>\n",
       "      <td>155</td>\n",
       "      <td>3</td>\n",
       "    </tr>\n",
       "    <tr>\n",
       "      <th>3</th>\n",
       "      <td>bajaj</td>\n",
       "      <td>Excellent</td>\n",
       "      <td>12</td>\n",
       "      <td>67</td>\n",
       "      <td>125</td>\n",
       "      <td>2015</td>\n",
       "      <td>12000</td>\n",
       "      <td>115000</td>\n",
       "      <td>3</td>\n",
       "    </tr>\n",
       "    <tr>\n",
       "      <th>4</th>\n",
       "      <td>yamaha</td>\n",
       "      <td>Excellent</td>\n",
       "      <td>12</td>\n",
       "      <td>32</td>\n",
       "      <td>150</td>\n",
       "      <td>2009</td>\n",
       "      <td>12000</td>\n",
       "      <td>68000</td>\n",
       "      <td>9</td>\n",
       "    </tr>\n",
       "    <tr>\n",
       "      <th>5</th>\n",
       "      <td>bajaj</td>\n",
       "      <td>Like New (used few times)</td>\n",
       "      <td>12</td>\n",
       "      <td>65</td>\n",
       "      <td>220</td>\n",
       "      <td>2015</td>\n",
       "      <td>16800</td>\n",
       "      <td>164000</td>\n",
       "      <td>3</td>\n",
       "    </tr>\n",
       "    <tr>\n",
       "      <th>6</th>\n",
       "      <td>bajaj</td>\n",
       "      <td>Excellent</td>\n",
       "      <td>36</td>\n",
       "      <td>71</td>\n",
       "      <td>109</td>\n",
       "      <td>2015</td>\n",
       "      <td>135000</td>\n",
       "      <td>130000</td>\n",
       "      <td>3</td>\n",
       "    </tr>\n",
       "    <tr>\n",
       "      <th>7</th>\n",
       "      <td>bajaj</td>\n",
       "      <td>Good/Fair</td>\n",
       "      <td>48</td>\n",
       "      <td>9</td>\n",
       "      <td>109</td>\n",
       "      <td>2014</td>\n",
       "      <td>19000</td>\n",
       "      <td>150000</td>\n",
       "      <td>4</td>\n",
       "    </tr>\n",
       "    <tr>\n",
       "      <th>9</th>\n",
       "      <td>honda</td>\n",
       "      <td>Excellent</td>\n",
       "      <td>12</td>\n",
       "      <td>81</td>\n",
       "      <td>160</td>\n",
       "      <td>2017</td>\n",
       "      <td>13000</td>\n",
       "      <td>185000</td>\n",
       "      <td>1</td>\n",
       "    </tr>\n",
       "    <tr>\n",
       "      <th>11</th>\n",
       "      <td>bajaj</td>\n",
       "      <td>Excellent</td>\n",
       "      <td>11</td>\n",
       "      <td>88</td>\n",
       "      <td>220</td>\n",
       "      <td>2017</td>\n",
       "      <td>14000</td>\n",
       "      <td>245000</td>\n",
       "      <td>1</td>\n",
       "    </tr>\n",
       "  </tbody>\n",
       "</table>\n",
       "</div>"
      ],
      "text/plain": [
       "     brand                  condition  months_used  lot_number  engine_cc  \\\n",
       "0    bajaj                  Excellent           36          65        150   \n",
       "1   yamaha                  Good/Fair            5          32        153   \n",
       "2    bajaj                  Excellent           36          67        153   \n",
       "3    bajaj                  Excellent           12          67        125   \n",
       "4   yamaha                  Excellent           12          32        150   \n",
       "5    bajaj  Like New (used few times)           12          65        220   \n",
       "6    bajaj                  Excellent           36          71        109   \n",
       "7    bajaj                  Good/Fair           48           9        109   \n",
       "9    honda                  Excellent           12          81        160   \n",
       "11   bajaj                  Excellent           11          88        220   \n",
       "\n",
       "    make_year  kilometers    cost  auto_age  \n",
       "0        2015       30000     135         3  \n",
       "1        2010       27000   85000         8  \n",
       "2        2015       23000     155         3  \n",
       "3        2015       12000  115000         3  \n",
       "4        2009       12000   68000         9  \n",
       "5        2015       16800  164000         3  \n",
       "6        2015      135000  130000         3  \n",
       "7        2014       19000  150000         4  \n",
       "9        2017       13000  185000         1  \n",
       "11       2017       14000  245000         1  "
      ]
     },
     "execution_count": 87,
     "metadata": {},
     "output_type": "execute_result"
    }
   ],
   "source": [
    "df.head(10)"
   ]
  },
  {
   "cell_type": "code",
   "execution_count": 88,
   "metadata": {
    "collapsed": true
   },
   "outputs": [],
   "source": [
    "# condition is a categorical variable\n",
    "df['condition'] = df['condition'].astype('category')\n",
    "# brand is a categorical variable\n",
    "df['brand'] = df['brand'].astype('category')"
   ]
  },
  {
   "cell_type": "code",
   "execution_count": 89,
   "metadata": {},
   "outputs": [
    {
     "data": {
      "text/plain": [
       "Index(['Excellent', 'Good/Fair', 'Like New (used few times)', 'Not Working'], dtype='object')"
      ]
     },
     "execution_count": 89,
     "metadata": {},
     "output_type": "execute_result"
    }
   ],
   "source": [
    "df['condition'].cat.categories"
   ]
  },
  {
   "cell_type": "code",
   "execution_count": 90,
   "metadata": {},
   "outputs": [
    {
     "data": {
      "text/plain": [
       "Index(['apollo', 'bajaj', 'benelli', 'crossfire', 'hartford', 'hero', 'honda',\n",
       "       'mahindra', 'reiju', 'royal enfield', 'suzuki', 'tvs', 'um', 'vespa',\n",
       "       'yamaha'],\n",
       "      dtype='object')"
      ]
     },
     "execution_count": 90,
     "metadata": {},
     "output_type": "execute_result"
    }
   ],
   "source": [
    "df['brand'].cat.categories"
   ]
  },
  {
   "cell_type": "code",
   "execution_count": 91,
   "metadata": {},
   "outputs": [
    {
     "data": {
      "text/plain": [
       "count    2.478000e+03\n",
       "mean     1.453154e+06\n",
       "std      4.757636e+07\n",
       "min      1.800000e+01\n",
       "25%      8.500000e+04\n",
       "50%      1.400000e+05\n",
       "75%      2.150000e+05\n",
       "max      2.147484e+09\n",
       "Name: cost, dtype: float64"
      ]
     },
     "execution_count": 91,
     "metadata": {},
     "output_type": "execute_result"
    }
   ],
   "source": [
    "df['cost'].describe()"
   ]
  },
  {
   "cell_type": "code",
   "execution_count": 92,
   "metadata": {
    "collapsed": true
   },
   "outputs": [],
   "source": [
    "df = df[df.cost >= 10000]"
   ]
  },
  {
   "cell_type": "markdown",
   "metadata": {},
   "source": []
  },
  {
   "cell_type": "code",
   "execution_count": 93,
   "metadata": {},
   "outputs": [
    {
     "name": "stderr",
     "output_type": "stream",
     "text": [
      "/home/leapfrong/workspace/envs/envpractice/lib/python3.5/importlib/_bootstrap.py:222: RuntimeWarning: numpy.dtype size changed, may indicate binary incompatibility. Expected 96, got 88\n",
      "  return f(*args, **kwds)\n",
      "/home/leapfrong/workspace/envs/envpractice/lib/python3.5/importlib/_bootstrap.py:222: RuntimeWarning: numpy.dtype size changed, may indicate binary incompatibility. Expected 96, got 88\n",
      "  return f(*args, **kwds)\n",
      "/home/leapfrong/workspace/envs/envpractice/lib/python3.5/site-packages/sklearn/cross_validation.py:41: DeprecationWarning: This module was deprecated in version 0.18 in favor of the model_selection module into which all the refactored classes and functions are moved. Also note that the interface of the new CV iterators are different from that of this module. This module will be removed in 0.20.\n",
      "  \"This module will be removed in 0.20.\", DeprecationWarning)\n"
     ]
    },
    {
     "data": {
      "text/plain": [
       "LinearRegression(copy_X=True, fit_intercept=True, n_jobs=1, normalize=False)"
      ]
     },
     "execution_count": 93,
     "metadata": {},
     "output_type": "execute_result"
    }
   ],
   "source": [
    "from sklearn.cross_validation import train_test_split\n",
    "from sklearn.linear_model import LinearRegression\n",
    "\n",
    "# Use only one feature : CollegeGPA\n",
    "# labour_data_gpa = labour_data.loc[:, ['collegeGPA']] or labour_data[['collegeGPA']]\n",
    "auto_months = df[['months_used']]\n",
    "# salary as a dependent variable\n",
    "# labour_data_salary = labour_data.loc[:, 'Salary']\n",
    "auto_cost = df[['cost']]\n",
    "# Split the data into training/testing sets\n",
    "months_train, months_test, cost_train, cost_test = train_test_split(\n",
    "    auto_months, auto_cost)\n",
    "\n",
    "# Create linear regression object\n",
    "regression = LinearRegression(fit_intercept = True)\n",
    "\n",
    "# Train the model using the training sets (first parameter is x )\n",
    "regression.fit(months_train, cost_train)\n",
    "# salary_X_train.size, salary_Y_train.size\n"
   ]
  },
  {
   "cell_type": "markdown",
   "metadata": {},
   "source": [
    "### Coefficients"
   ]
  },
  {
   "cell_type": "code",
   "execution_count": 94,
   "metadata": {},
   "outputs": [
    {
     "data": {
      "text/plain": [
       "(array([[3.10514195e-07]]), array([185498.43084404]))"
      ]
     },
     "execution_count": 94,
     "metadata": {},
     "output_type": "execute_result"
    }
   ],
   "source": [
    "regression.coef_, regression.intercept_"
   ]
  },
  {
   "cell_type": "markdown",
   "metadata": {},
   "source": [
    "### predict the cost"
   ]
  },
  {
   "cell_type": "code",
   "execution_count": 95,
   "metadata": {},
   "outputs": [
    {
     "data": {
      "text/plain": [
       "array([[185498.43084776],\n",
       "       [185498.43085149],\n",
       "       [185498.43084776],\n",
       "       [185498.43084776],\n",
       "       [185498.43086267],\n",
       "       [185498.43084776],\n",
       "       [185498.43084435],\n",
       "       [185498.43084776],\n",
       "       [185498.43084963],\n",
       "       [185498.43084776]])"
      ]
     },
     "execution_count": 95,
     "metadata": {},
     "output_type": "execute_result"
    }
   ],
   "source": [
    "cost_predict = regression.predict(months_test)\n",
    "cost_predict[:10]"
   ]
  },
  {
   "cell_type": "markdown",
   "metadata": {},
   "source": [
    "Compare the predicted value with the actual value of cost"
   ]
  },
  {
   "cell_type": "code",
   "execution_count": 96,
   "metadata": {},
   "outputs": [
    {
     "data": {
      "text/html": [
       "<div>\n",
       "<style scoped>\n",
       "    .dataframe tbody tr th:only-of-type {\n",
       "        vertical-align: middle;\n",
       "    }\n",
       "\n",
       "    .dataframe tbody tr th {\n",
       "        vertical-align: top;\n",
       "    }\n",
       "\n",
       "    .dataframe thead th {\n",
       "        text-align: right;\n",
       "    }\n",
       "</style>\n",
       "<table border=\"1\" class=\"dataframe\">\n",
       "  <thead>\n",
       "    <tr style=\"text-align: right;\">\n",
       "      <th></th>\n",
       "      <th>cost</th>\n",
       "    </tr>\n",
       "  </thead>\n",
       "  <tbody>\n",
       "    <tr>\n",
       "      <th>1825</th>\n",
       "      <td>70000</td>\n",
       "    </tr>\n",
       "    <tr>\n",
       "      <th>2116</th>\n",
       "      <td>350000</td>\n",
       "    </tr>\n",
       "    <tr>\n",
       "      <th>1826</th>\n",
       "      <td>70000</td>\n",
       "    </tr>\n",
       "    <tr>\n",
       "      <th>3345</th>\n",
       "      <td>200000</td>\n",
       "    </tr>\n",
       "    <tr>\n",
       "      <th>321</th>\n",
       "      <td>150000</td>\n",
       "    </tr>\n",
       "    <tr>\n",
       "      <th>3234</th>\n",
       "      <td>185000</td>\n",
       "    </tr>\n",
       "    <tr>\n",
       "      <th>877</th>\n",
       "      <td>140000</td>\n",
       "    </tr>\n",
       "    <tr>\n",
       "      <th>753</th>\n",
       "      <td>90000</td>\n",
       "    </tr>\n",
       "    <tr>\n",
       "      <th>3374</th>\n",
       "      <td>190000</td>\n",
       "    </tr>\n",
       "    <tr>\n",
       "      <th>1537</th>\n",
       "      <td>160000</td>\n",
       "    </tr>\n",
       "  </tbody>\n",
       "</table>\n",
       "</div>"
      ],
      "text/plain": [
       "        cost\n",
       "1825   70000\n",
       "2116  350000\n",
       "1826   70000\n",
       "3345  200000\n",
       "321   150000\n",
       "3234  185000\n",
       "877   140000\n",
       "753    90000\n",
       "3374  190000\n",
       "1537  160000"
      ]
     },
     "execution_count": 96,
     "metadata": {},
     "output_type": "execute_result"
    }
   ],
   "source": [
    "cost_test[:10]"
   ]
  },
  {
   "cell_type": "code",
   "execution_count": 97,
   "metadata": {},
   "outputs": [
    {
     "data": {
      "text/plain": [
       "(-0.00294263823986074, 1.8204600614191158e-05)"
      ]
     },
     "execution_count": 97,
     "metadata": {},
     "output_type": "execute_result"
    }
   ],
   "source": [
    "regression.score(\n",
    "    months_test, cost_test), regression.score(months_train, cost_train)"
   ]
  },
  {
   "cell_type": "markdown",
   "metadata": {},
   "source": [
    "## Multiple Linear Regression - (Linear Regression with three independent variable)"
   ]
  },
  {
   "cell_type": "code",
   "execution_count": 98,
   "metadata": {},
   "outputs": [
    {
     "name": "stdout",
     "output_type": "stream",
     "text": [
      "750973.7898184969\n",
      "[-4.76013291e-06 -7.77906163e-02 -3.73996908e+02]\n"
     ]
    }
   ],
   "source": [
    "feature_cols = ['months_used', 'kilometers', 'auto_age']\n",
    "X = df[feature_cols]\n",
    "y = df.cost\n",
    "# Split the data into training/testing sets\n",
    "x_train, x_test, y_train, y_test = train_test_split(X, y)\n",
    "\n",
    "lm = LinearRegression()\n",
    "lm.fit(x_train, y_train)\n",
    "\n",
    "# print intercept and coefficients\n",
    "print (lm.intercept_)\n",
    "print (lm.coef_)"
   ]
  },
  {
   "cell_type": "code",
   "execution_count": 99,
   "metadata": {},
   "outputs": [
    {
     "data": {
      "text/plain": [
       "[('months_used', -4.760132909539037e-06),\n",
       " ('kilometers', -0.07779061630279471),\n",
       " ('auto_age', -373.99690757467533)]"
      ]
     },
     "execution_count": 99,
     "metadata": {},
     "output_type": "execute_result"
    }
   ],
   "source": [
    "# feature coeffs.\n",
    "list(zip(feature_cols, lm.coef_))"
   ]
  },
  {
   "cell_type": "code",
   "execution_count": 100,
   "metadata": {},
   "outputs": [
    {
     "data": {
      "text/plain": [
       "array([749370.0991669 , 737256.10545178, 747727.51320714, 746692.29600387,\n",
       "       741459.3484161 , 746895.7555049 , 738796.50194111, 746066.96138397,\n",
       "       748747.77423647, 748281.03053866])"
      ]
     },
     "execution_count": 100,
     "metadata": {},
     "output_type": "execute_result"
    }
   ],
   "source": [
    "cost_predict_mul = lm.predict(x_test)\n",
    "cost_predict_mul[:10]"
   ]
  },
  {
   "cell_type": "code",
   "execution_count": 101,
   "metadata": {},
   "outputs": [
    {
     "data": {
      "text/plain": [
       "1263    210000\n",
       "1403     75000\n",
       "946     350000\n",
       "826      90000\n",
       "1861     55000\n",
       "241     180000\n",
       "3353     40000\n",
       "2077     80000\n",
       "639     135000\n",
       "450     167000\n",
       "Name: cost, dtype: int64"
      ]
     },
     "execution_count": 101,
     "metadata": {},
     "output_type": "execute_result"
    }
   ],
   "source": [
    "y_test[:10]"
   ]
  },
  {
   "cell_type": "code",
   "execution_count": 102,
   "metadata": {},
   "outputs": [
    {
     "data": {
      "text/plain": [
       "-0.0011798294914411311"
      ]
     },
     "execution_count": 102,
     "metadata": {},
     "output_type": "execute_result"
    }
   ],
   "source": [
    "lm.score(x_test, y_test)"
   ]
  },
  {
   "cell_type": "markdown",
   "metadata": {},
   "source": [
    "### Handling 'Categorical input variables'  : brand and condition"
   ]
  },
  {
   "cell_type": "code",
   "execution_count": 636,
   "metadata": {},
   "outputs": [
    {
     "data": {
      "text/html": [
       "<div>\n",
       "<style scoped>\n",
       "    .dataframe tbody tr th:only-of-type {\n",
       "        vertical-align: middle;\n",
       "    }\n",
       "\n",
       "    .dataframe tbody tr th {\n",
       "        vertical-align: top;\n",
       "    }\n",
       "\n",
       "    .dataframe thead th {\n",
       "        text-align: right;\n",
       "    }\n",
       "</style>\n",
       "<table border=\"1\" class=\"dataframe\">\n",
       "  <thead>\n",
       "    <tr style=\"text-align: right;\">\n",
       "      <th></th>\n",
       "      <th>months_used</th>\n",
       "      <th>auto_age</th>\n",
       "      <th>kilometers</th>\n",
       "      <th>apollo</th>\n",
       "      <th>bajaj</th>\n",
       "      <th>benelli</th>\n",
       "      <th>crossfire</th>\n",
       "      <th>hartford</th>\n",
       "      <th>hero</th>\n",
       "      <th>honda</th>\n",
       "      <th>...</th>\n",
       "      <th>royal enfield</th>\n",
       "      <th>suzuki</th>\n",
       "      <th>tvs</th>\n",
       "      <th>um</th>\n",
       "      <th>vespa</th>\n",
       "      <th>yamaha</th>\n",
       "      <th>Excellent</th>\n",
       "      <th>Good/Fair</th>\n",
       "      <th>Like New (used few times)</th>\n",
       "      <th>Not Working</th>\n",
       "    </tr>\n",
       "  </thead>\n",
       "  <tbody>\n",
       "    <tr>\n",
       "      <th>1</th>\n",
       "      <td>5</td>\n",
       "      <td>8</td>\n",
       "      <td>27000</td>\n",
       "      <td>0</td>\n",
       "      <td>0</td>\n",
       "      <td>0</td>\n",
       "      <td>0</td>\n",
       "      <td>0</td>\n",
       "      <td>0</td>\n",
       "      <td>0</td>\n",
       "      <td>...</td>\n",
       "      <td>0</td>\n",
       "      <td>0</td>\n",
       "      <td>0</td>\n",
       "      <td>0</td>\n",
       "      <td>0</td>\n",
       "      <td>1</td>\n",
       "      <td>0</td>\n",
       "      <td>1</td>\n",
       "      <td>0</td>\n",
       "      <td>0</td>\n",
       "    </tr>\n",
       "    <tr>\n",
       "      <th>3</th>\n",
       "      <td>12</td>\n",
       "      <td>3</td>\n",
       "      <td>12000</td>\n",
       "      <td>0</td>\n",
       "      <td>1</td>\n",
       "      <td>0</td>\n",
       "      <td>0</td>\n",
       "      <td>0</td>\n",
       "      <td>0</td>\n",
       "      <td>0</td>\n",
       "      <td>...</td>\n",
       "      <td>0</td>\n",
       "      <td>0</td>\n",
       "      <td>0</td>\n",
       "      <td>0</td>\n",
       "      <td>0</td>\n",
       "      <td>0</td>\n",
       "      <td>1</td>\n",
       "      <td>0</td>\n",
       "      <td>0</td>\n",
       "      <td>0</td>\n",
       "    </tr>\n",
       "    <tr>\n",
       "      <th>4</th>\n",
       "      <td>12</td>\n",
       "      <td>9</td>\n",
       "      <td>12000</td>\n",
       "      <td>0</td>\n",
       "      <td>0</td>\n",
       "      <td>0</td>\n",
       "      <td>0</td>\n",
       "      <td>0</td>\n",
       "      <td>0</td>\n",
       "      <td>0</td>\n",
       "      <td>...</td>\n",
       "      <td>0</td>\n",
       "      <td>0</td>\n",
       "      <td>0</td>\n",
       "      <td>0</td>\n",
       "      <td>0</td>\n",
       "      <td>1</td>\n",
       "      <td>1</td>\n",
       "      <td>0</td>\n",
       "      <td>0</td>\n",
       "      <td>0</td>\n",
       "    </tr>\n",
       "    <tr>\n",
       "      <th>5</th>\n",
       "      <td>12</td>\n",
       "      <td>3</td>\n",
       "      <td>16800</td>\n",
       "      <td>0</td>\n",
       "      <td>1</td>\n",
       "      <td>0</td>\n",
       "      <td>0</td>\n",
       "      <td>0</td>\n",
       "      <td>0</td>\n",
       "      <td>0</td>\n",
       "      <td>...</td>\n",
       "      <td>0</td>\n",
       "      <td>0</td>\n",
       "      <td>0</td>\n",
       "      <td>0</td>\n",
       "      <td>0</td>\n",
       "      <td>0</td>\n",
       "      <td>0</td>\n",
       "      <td>0</td>\n",
       "      <td>1</td>\n",
       "      <td>0</td>\n",
       "    </tr>\n",
       "    <tr>\n",
       "      <th>6</th>\n",
       "      <td>36</td>\n",
       "      <td>3</td>\n",
       "      <td>135000</td>\n",
       "      <td>0</td>\n",
       "      <td>1</td>\n",
       "      <td>0</td>\n",
       "      <td>0</td>\n",
       "      <td>0</td>\n",
       "      <td>0</td>\n",
       "      <td>0</td>\n",
       "      <td>...</td>\n",
       "      <td>0</td>\n",
       "      <td>0</td>\n",
       "      <td>0</td>\n",
       "      <td>0</td>\n",
       "      <td>0</td>\n",
       "      <td>0</td>\n",
       "      <td>1</td>\n",
       "      <td>0</td>\n",
       "      <td>0</td>\n",
       "      <td>0</td>\n",
       "    </tr>\n",
       "  </tbody>\n",
       "</table>\n",
       "<p>5 rows × 22 columns</p>\n",
       "</div>"
      ],
      "text/plain": [
       "   months_used  auto_age  kilometers  apollo  bajaj  benelli  crossfire  \\\n",
       "1            5         8       27000       0      0        0          0   \n",
       "3           12         3       12000       0      1        0          0   \n",
       "4           12         9       12000       0      0        0          0   \n",
       "5           12         3       16800       0      1        0          0   \n",
       "6           36         3      135000       0      1        0          0   \n",
       "\n",
       "   hartford  hero  honda     ...       royal enfield  suzuki  tvs  um  vespa  \\\n",
       "1         0     0      0     ...                   0       0    0   0      0   \n",
       "3         0     0      0     ...                   0       0    0   0      0   \n",
       "4         0     0      0     ...                   0       0    0   0      0   \n",
       "5         0     0      0     ...                   0       0    0   0      0   \n",
       "6         0     0      0     ...                   0       0    0   0      0   \n",
       "\n",
       "   yamaha  Excellent  Good/Fair  Like New (used few times)  Not Working  \n",
       "1       1          0          1                          0            0  \n",
       "3       0          1          0                          0            0  \n",
       "4       1          1          0                          0            0  \n",
       "5       0          0          0                          1            0  \n",
       "6       0          1          0                          0            0  \n",
       "\n",
       "[5 rows x 22 columns]"
      ]
     },
     "execution_count": 636,
     "metadata": {},
     "output_type": "execute_result"
    }
   ],
   "source": [
    "# create X and y\n",
    "feature_cols = ['months_used', 'auto_age', 'kilometers', 'brand', 'condition']\n",
    "\n",
    "X = df[feature_cols]\n",
    "X_months = df[['months_used']]\n",
    "X_age = df[['auto_age']]\n",
    "X_kilo = df[['kilometers']]\n",
    "X_brand = pd.get_dummies(df['brand'])                     \n",
    "X_condition = pd.get_dummies(df['condition'])\n",
    "X_new = pd.concat([X_months,X_age, X_kilo, X_brand, X_condition], axis = 1)\n",
    "\n",
    "X_new.head()"
   ]
  },
  {
   "cell_type": "code",
   "execution_count": 637,
   "metadata": {},
   "outputs": [
    {
     "name": "stdout",
     "output_type": "stream",
     "text": [
      "-6415.294031998608\n",
      "[-3.25511690e-05 -1.04508244e+03 -2.46977427e-01  1.33597562e+06\n",
      "  2.26348252e+06 -4.78600625e+05  3.00656133e+05 -4.28981688e+04\n",
      " -5.60134869e+05 -5.29760202e+05 -6.34457304e+05  1.37940799e+06\n",
      " -4.45840896e+05 -6.05171355e+05 -3.35010660e+05 -1.00523630e+06\n",
      " -2.36494700e+05 -4.05917175e+05  1.58601697e+06 -1.15823593e+06\n",
      " -1.05133183e+06  6.23550789e+05]\n"
     ]
    }
   ],
   "source": [
    "\n",
    "y_new = df.cost\n",
    "# Split the data into training/testing sets\n",
    "x_cat_train, x_cat_test, y_cat_train, y_cat_test = train_test_split(X_new, y_new)\n",
    "\n",
    "lm_cat = LinearRegression()\n",
    "lm_cat.fit(x_cat_train, y_cat_train)\n",
    "\n",
    "# print intercept and coefficients\n",
    "print (lm_cat.intercept_)\n",
    "print (lm_cat.coef_)"
   ]
  },
  {
   "cell_type": "code",
   "execution_count": 638,
   "metadata": {
    "collapsed": true
   },
   "outputs": [],
   "source": [
    "predict_cat = lm_cat.predict(x_cat_test)"
   ]
  },
  {
   "cell_type": "code",
   "execution_count": 639,
   "metadata": {},
   "outputs": [
    {
     "data": {
      "text/plain": [
       "array([3835940.13941902, 1201726.58284965, 3837840.4995969 ,\n",
       "       1004485.78798858, 1255881.063773  , 3831684.34964282,\n",
       "       3831741.52295735, 1240088.25283028, 3826934.6065742 ,\n",
       "       1166778.27912036])"
      ]
     },
     "execution_count": 639,
     "metadata": {},
     "output_type": "execute_result"
    }
   ],
   "source": [
    "predict_cat[:10]"
   ]
  },
  {
   "cell_type": "code",
   "execution_count": 640,
   "metadata": {},
   "outputs": [
    {
     "data": {
      "text/plain": [
       "3244     50000\n",
       "2451     75000\n",
       "2169    245000\n",
       "1655    230000\n",
       "1767    150000\n",
       "Name: cost, dtype: int64"
      ]
     },
     "execution_count": 640,
     "metadata": {},
     "output_type": "execute_result"
    }
   ],
   "source": [
    "y_cat_train.head()"
   ]
  },
  {
   "cell_type": "code",
   "execution_count": 641,
   "metadata": {},
   "outputs": [
    {
     "data": {
      "text/plain": [
       "-312.3610826943585"
      ]
     },
     "execution_count": 641,
     "metadata": {},
     "output_type": "execute_result"
    }
   ],
   "source": [
    "lm_cat.score(x_cat_test, y_cat_test)"
   ]
  },
  {
   "cell_type": "code",
   "execution_count": null,
   "metadata": {
    "collapsed": true
   },
   "outputs": [],
   "source": []
  }
 ],
 "metadata": {
  "kernelspec": {
   "display_name": "Python 3",
   "language": "python",
   "name": "python3"
  },
  "language_info": {
   "codemirror_mode": {
    "name": "ipython",
    "version": 3
   },
   "file_extension": ".py",
   "mimetype": "text/x-python",
   "name": "python",
   "nbconvert_exporter": "python",
   "pygments_lexer": "ipython3",
   "version": "3.6.5"
  }
 },
 "nbformat": 4,
 "nbformat_minor": 2
}
